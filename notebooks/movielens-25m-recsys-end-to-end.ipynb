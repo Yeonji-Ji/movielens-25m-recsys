{
 "cells": [
  {
   "cell_type": "code",
   "execution_count": 1,
   "metadata": {
    "_cell_guid": "b1076dfc-b9ad-4769-8c92-a6c4dae69d19",
    "_uuid": "8f2839f25d086af736a60e9eeb907d3b93b6e0e5",
    "execution": {
     "iopub.execute_input": "2025-09-05T20:48:00.215751Z",
     "iopub.status.busy": "2025-09-05T20:48:00.215416Z",
     "iopub.status.idle": "2025-09-05T20:48:00.929302Z",
     "shell.execute_reply": "2025-09-05T20:48:00.928362Z",
     "shell.execute_reply.started": "2025-09-05T20:48:00.215705Z"
    }
   },
   "outputs": [
    {
     "name": "stdout",
     "output_type": "stream",
     "text": [
      "/kaggle/input/movielens-25m-dataset/ml-25m-README.html\n",
      "/kaggle/input/movielens-25m-dataset/ml-25m/ml-25m/movies.csv\n",
      "/kaggle/input/movielens-25m-dataset/ml-25m/ml-25m/ratings.csv\n",
      "/kaggle/input/movielens-25m-dataset/ml-25m/ml-25m/genome-tags.csv\n",
      "/kaggle/input/movielens-25m-dataset/ml-25m/ml-25m/README.txt\n",
      "/kaggle/input/movielens-25m-dataset/ml-25m/ml-25m/genome-scores.csv\n",
      "/kaggle/input/movielens-25m-dataset/ml-25m/ml-25m/tags.csv\n",
      "/kaggle/input/movielens-25m-dataset/ml-25m/ml-25m/links.csv\n"
     ]
    }
   ],
   "source": [
    "# This Python 3 environment comes with many helpful analytics libraries installed\n",
    "# It is defined by the kaggle/python Docker image: https://github.com/kaggle/docker-python\n",
    "# For example, here's several helpful packages to load\n",
    "\n",
    "import numpy as np # linear algebra\n",
    "import pandas as pd # data processing, CSV file I/O (e.g. pd.read_csv)\n",
    "\n",
    "# Input data files are available in the read-only \"../input/\" directory\n",
    "# For example, running this (by clicking run or pressing Shift+Enter) will list all files under the input directory\n",
    "\n",
    "import os\n",
    "for dirname, _, filenames in os.walk('/kaggle/input'):\n",
    "    for filename in filenames:\n",
    "        print(os.path.join(dirname, filename))\n",
    "\n",
    "# You can write up to 20GB to the current directory (/kaggle/working/) that gets preserved as output when you create a version using \"Save & Run All\" \n",
    "# You can also write temporary files to /kaggle/temp/, but they won't be saved outside of the current session"
   ]
  },
  {
   "cell_type": "code",
   "execution_count": 2,
   "metadata": {
    "execution": {
     "iopub.execute_input": "2025-09-05T20:48:00.931769Z",
     "iopub.status.busy": "2025-09-05T20:48:00.931398Z",
     "iopub.status.idle": "2025-09-05T20:48:02.584286Z",
     "shell.execute_reply": "2025-09-05T20:48:02.583122Z",
     "shell.execute_reply.started": "2025-09-05T20:48:00.931748Z"
    }
   },
   "outputs": [],
   "source": [
    "import gc\n",
    "import scipy.sparse as sp\n",
    "from sklearn.preprocessing import LabelEncoder\n",
    "from scipy.sparse.linalg import svds"
   ]
  },
  {
   "cell_type": "code",
   "execution_count": 3,
   "metadata": {
    "execution": {
     "iopub.execute_input": "2025-09-05T20:48:02.585437Z",
     "iopub.status.busy": "2025-09-05T20:48:02.584940Z",
     "iopub.status.idle": "2025-09-05T20:48:02.595483Z",
     "shell.execute_reply": "2025-09-05T20:48:02.591858Z",
     "shell.execute_reply.started": "2025-09-05T20:48:02.585414Z"
    }
   },
   "outputs": [],
   "source": [
    "DIR = \"/kaggle/input/movielens-25m-dataset/ml-25m/ml-25m\""
   ]
  },
  {
   "cell_type": "code",
   "execution_count": 4,
   "metadata": {
    "execution": {
     "iopub.execute_input": "2025-09-05T20:48:02.598061Z",
     "iopub.status.busy": "2025-09-05T20:48:02.597602Z",
     "iopub.status.idle": "2025-09-05T20:48:23.459485Z",
     "shell.execute_reply": "2025-09-05T20:48:23.455943Z",
     "shell.execute_reply.started": "2025-09-05T20:48:02.598027Z"
    }
   },
   "outputs": [
    {
     "data": {
      "text/html": [
       "<div>\n",
       "<style scoped>\n",
       "    .dataframe tbody tr th:only-of-type {\n",
       "        vertical-align: middle;\n",
       "    }\n",
       "\n",
       "    .dataframe tbody tr th {\n",
       "        vertical-align: top;\n",
       "    }\n",
       "\n",
       "    .dataframe thead th {\n",
       "        text-align: right;\n",
       "    }\n",
       "</style>\n",
       "<table border=\"1\" class=\"dataframe\">\n",
       "  <thead>\n",
       "    <tr style=\"text-align: right;\">\n",
       "      <th></th>\n",
       "      <th>userId</th>\n",
       "      <th>movieId</th>\n",
       "      <th>rating</th>\n",
       "      <th>timestamp</th>\n",
       "    </tr>\n",
       "  </thead>\n",
       "  <tbody>\n",
       "    <tr>\n",
       "      <th>0</th>\n",
       "      <td>1</td>\n",
       "      <td>296</td>\n",
       "      <td>5.0</td>\n",
       "      <td>1147880044</td>\n",
       "    </tr>\n",
       "    <tr>\n",
       "      <th>1</th>\n",
       "      <td>1</td>\n",
       "      <td>306</td>\n",
       "      <td>3.5</td>\n",
       "      <td>1147868817</td>\n",
       "    </tr>\n",
       "    <tr>\n",
       "      <th>2</th>\n",
       "      <td>1</td>\n",
       "      <td>307</td>\n",
       "      <td>5.0</td>\n",
       "      <td>1147868828</td>\n",
       "    </tr>\n",
       "    <tr>\n",
       "      <th>3</th>\n",
       "      <td>1</td>\n",
       "      <td>665</td>\n",
       "      <td>5.0</td>\n",
       "      <td>1147878820</td>\n",
       "    </tr>\n",
       "    <tr>\n",
       "      <th>4</th>\n",
       "      <td>1</td>\n",
       "      <td>899</td>\n",
       "      <td>3.5</td>\n",
       "      <td>1147868510</td>\n",
       "    </tr>\n",
       "  </tbody>\n",
       "</table>\n",
       "</div>"
      ],
      "text/plain": [
       "   userId  movieId  rating   timestamp\n",
       "0       1      296     5.0  1147880044\n",
       "1       1      306     3.5  1147868817\n",
       "2       1      307     5.0  1147868828\n",
       "3       1      665     5.0  1147878820\n",
       "4       1      899     3.5  1147868510"
      ]
     },
     "execution_count": 4,
     "metadata": {},
     "output_type": "execute_result"
    }
   ],
   "source": [
    "usecols = [\"userId\", \"movieId\", \"rating\", \"timestamp\"]\n",
    "dtypes = {\"userID\": \"int32\", \"movieID\": \"int32\", \"rating\": \"float32\", \"timestamp\": \"int64\"}\n",
    "\n",
    "# Start with \"ratings.csv\"\n",
    "ratings = pd.read_csv(f\"{DIR}/ratings.csv\", usecols=usecols, dtype=dtypes)\n",
    "ratings.head()"
   ]
  },
  {
   "cell_type": "code",
   "execution_count": 5,
   "metadata": {
    "execution": {
     "iopub.execute_input": "2025-09-05T20:48:23.463462Z",
     "iopub.status.busy": "2025-09-05T20:48:23.462936Z",
     "iopub.status.idle": "2025-09-05T20:48:30.826927Z",
     "shell.execute_reply": "2025-09-05T20:48:30.825654Z",
     "shell.execute_reply.started": "2025-09-05T20:48:23.463418Z"
    }
   },
   "outputs": [
    {
     "data": {
      "text/html": [
       "<div>\n",
       "<style scoped>\n",
       "    .dataframe tbody tr th:only-of-type {\n",
       "        vertical-align: middle;\n",
       "    }\n",
       "\n",
       "    .dataframe tbody tr th {\n",
       "        vertical-align: top;\n",
       "    }\n",
       "\n",
       "    .dataframe thead th {\n",
       "        text-align: right;\n",
       "    }\n",
       "</style>\n",
       "<table border=\"1\" class=\"dataframe\">\n",
       "  <thead>\n",
       "    <tr style=\"text-align: right;\">\n",
       "      <th></th>\n",
       "      <th>userId</th>\n",
       "      <th>movieId</th>\n",
       "      <th>rating</th>\n",
       "      <th>ts</th>\n",
       "    </tr>\n",
       "  </thead>\n",
       "  <tbody>\n",
       "    <tr>\n",
       "      <th>0</th>\n",
       "      <td>2262</td>\n",
       "      <td>21</td>\n",
       "      <td>3.0</td>\n",
       "      <td>1995-01-09 11:46:49</td>\n",
       "    </tr>\n",
       "    <tr>\n",
       "      <th>1</th>\n",
       "      <td>2262</td>\n",
       "      <td>1079</td>\n",
       "      <td>3.0</td>\n",
       "      <td>1995-01-09 11:46:49</td>\n",
       "    </tr>\n",
       "    <tr>\n",
       "      <th>2</th>\n",
       "      <td>2262</td>\n",
       "      <td>47</td>\n",
       "      <td>5.0</td>\n",
       "      <td>1995-01-09 11:46:49</td>\n",
       "    </tr>\n",
       "    <tr>\n",
       "      <th>3</th>\n",
       "      <td>102689</td>\n",
       "      <td>1</td>\n",
       "      <td>4.0</td>\n",
       "      <td>1996-01-29 00:00:00</td>\n",
       "    </tr>\n",
       "    <tr>\n",
       "      <th>4</th>\n",
       "      <td>102689</td>\n",
       "      <td>39</td>\n",
       "      <td>5.0</td>\n",
       "      <td>1996-01-29 00:00:00</td>\n",
       "    </tr>\n",
       "  </tbody>\n",
       "</table>\n",
       "</div>"
      ],
      "text/plain": [
       "   userId  movieId  rating                  ts\n",
       "0    2262       21     3.0 1995-01-09 11:46:49\n",
       "1    2262     1079     3.0 1995-01-09 11:46:49\n",
       "2    2262       47     5.0 1995-01-09 11:46:49\n",
       "3  102689        1     4.0 1996-01-29 00:00:00\n",
       "4  102689       39     5.0 1996-01-29 00:00:00"
      ]
     },
     "execution_count": 5,
     "metadata": {},
     "output_type": "execute_result"
    }
   ],
   "source": [
    "# Change the format of timestamp\n",
    "ratings[\"ts\"] = pd.to_datetime(ratings[\"timestamp\"], unit=\"s\")\n",
    "ratings = ratings.sort_values(\"ts\").reset_index(drop=True)\n",
    "ratings[[\"userId\", \"movieId\", \"rating\", \"ts\"]].head()"
   ]
  },
  {
   "cell_type": "code",
   "execution_count": 6,
   "metadata": {
    "execution": {
     "iopub.execute_input": "2025-09-05T20:48:30.828888Z",
     "iopub.status.busy": "2025-09-05T20:48:30.828412Z",
     "iopub.status.idle": "2025-09-05T20:48:31.825930Z",
     "shell.execute_reply": "2025-09-05T20:48:31.824883Z",
     "shell.execute_reply.started": "2025-09-05T20:48:30.828860Z"
    }
   },
   "outputs": [
    {
     "data": {
      "text/plain": [
       "(7563741, 5)"
      ]
     },
     "execution_count": 6,
     "metadata": {},
     "output_type": "execute_result"
    }
   ],
   "source": [
    "# Use the data of 2015-current\n",
    "min_year = 2015\n",
    "ratings = ratings[ratings[\"ts\"].dt.year >= min_year].reset_index(drop=True)\n",
    "ratings.shape"
   ]
  },
  {
   "cell_type": "markdown",
   "metadata": {},
   "source": [
    "#### <span style=\"background-color:#C0FFFF\"> K-core Filtering for Train set only </span>"
   ]
  },
  {
   "cell_type": "code",
   "execution_count": 7,
   "metadata": {
    "execution": {
     "iopub.execute_input": "2025-09-05T20:48:31.827652Z",
     "iopub.status.busy": "2025-09-05T20:48:31.826954Z",
     "iopub.status.idle": "2025-09-05T20:48:31.833026Z",
     "shell.execute_reply": "2025-09-05T20:48:31.832100Z",
     "shell.execute_reply.started": "2025-09-05T20:48:31.827627Z"
    }
   },
   "outputs": [],
   "source": [
    "def kcore(df, k=10):\n",
    "    d = df\n",
    "    while True:\n",
    "        before = len(d)\n",
    "        d = d[d.groupby(\"userId\")[\"userId\"].transform(\"count\") >=k ]    # users more than x10\n",
    "        d = d[d.groupby(\"movieId\")[\"movieId\"].transform(\"count\") >=k ]  # movies rated more than x10\n",
    "        after = len(d)\n",
    "        if before==after: break\n",
    "    return d.reset_index(drop=True)"
   ]
  },
  {
   "cell_type": "code",
   "execution_count": 8,
   "metadata": {
    "execution": {
     "iopub.execute_input": "2025-09-05T20:48:31.834254Z",
     "iopub.status.busy": "2025-09-05T20:48:31.833953Z",
     "iopub.status.idle": "2025-09-05T20:48:34.168348Z",
     "shell.execute_reply": "2025-09-05T20:48:34.167430Z",
     "shell.execute_reply.started": "2025-09-05T20:48:31.834228Z"
    }
   },
   "outputs": [
    {
     "data": {
      "text/plain": [
       "(7440152, 5)"
      ]
     },
     "execution_count": 8,
     "metadata": {},
     "output_type": "execute_result"
    }
   ],
   "source": [
    "ratings = kcore(ratings, k=10)\n",
    "ratings.shape"
   ]
  },
  {
   "cell_type": "markdown",
   "metadata": {},
   "source": [
    "#### <span style=\"background-color:#C0FFFF\"> Split train set to train and validation sets (based on chronological order)</span>"
   ]
  },
  {
   "cell_type": "code",
   "execution_count": 9,
   "metadata": {
    "execution": {
     "iopub.execute_input": "2025-09-05T20:48:34.169632Z",
     "iopub.status.busy": "2025-09-05T20:48:34.169330Z",
     "iopub.status.idle": "2025-09-05T20:48:34.237354Z",
     "shell.execute_reply": "2025-09-05T20:48:34.236649Z",
     "shell.execute_reply.started": "2025-09-05T20:48:34.169604Z"
    }
   },
   "outputs": [
    {
     "data": {
      "text/plain": [
       "(5952121, 744015, 744016)"
      ]
     },
     "execution_count": 9,
     "metadata": {},
     "output_type": "execute_result"
    }
   ],
   "source": [
    "# train (80%) / valid (10%) / test (10%) set\n",
    "train = ratings.iloc[:int(len(ratings)*0.8)].copy()\n",
    "valid = ratings.iloc[int(len(ratings)*0.8):int(len(ratings)*0.9)].copy()\n",
    "test = ratings.iloc[int(len(ratings)*0.9):].copy()\n",
    "\n",
    "len(train), len(valid), len(test)"
   ]
  },
  {
   "cell_type": "markdown",
   "metadata": {},
   "source": [
    "#### <span style=\"background-color:#C0FFFF\"> Label Encoding </span>"
   ]
  },
  {
   "cell_type": "code",
   "execution_count": 10,
   "metadata": {
    "execution": {
     "iopub.execute_input": "2025-09-05T20:48:34.238686Z",
     "iopub.status.busy": "2025-09-05T20:48:34.238336Z",
     "iopub.status.idle": "2025-09-05T20:48:35.847077Z",
     "shell.execute_reply": "2025-09-05T20:48:35.844722Z",
     "shell.execute_reply.started": "2025-09-05T20:48:34.238657Z"
    }
   },
   "outputs": [
    {
     "data": {
      "text/html": [
       "<div>\n",
       "<style scoped>\n",
       "    .dataframe tbody tr th:only-of-type {\n",
       "        vertical-align: middle;\n",
       "    }\n",
       "\n",
       "    .dataframe tbody tr th {\n",
       "        vertical-align: top;\n",
       "    }\n",
       "\n",
       "    .dataframe thead th {\n",
       "        text-align: right;\n",
       "    }\n",
       "</style>\n",
       "<table border=\"1\" class=\"dataframe\">\n",
       "  <thead>\n",
       "    <tr style=\"text-align: right;\">\n",
       "      <th></th>\n",
       "      <th>userId</th>\n",
       "      <th>movieId</th>\n",
       "      <th>rating</th>\n",
       "      <th>timestamp</th>\n",
       "      <th>ts</th>\n",
       "      <th>u</th>\n",
       "      <th>i</th>\n",
       "    </tr>\n",
       "  </thead>\n",
       "  <tbody>\n",
       "    <tr>\n",
       "      <th>0</th>\n",
       "      <td>86188</td>\n",
       "      <td>1196</td>\n",
       "      <td>3.5</td>\n",
       "      <td>1420070535</td>\n",
       "      <td>2015-01-01 00:02:15</td>\n",
       "      <td>19705</td>\n",
       "      <td>873</td>\n",
       "    </tr>\n",
       "    <tr>\n",
       "      <th>1</th>\n",
       "      <td>86188</td>\n",
       "      <td>1036</td>\n",
       "      <td>4.0</td>\n",
       "      <td>1420070551</td>\n",
       "      <td>2015-01-01 00:02:31</td>\n",
       "      <td>19705</td>\n",
       "      <td>772</td>\n",
       "    </tr>\n",
       "    <tr>\n",
       "      <th>2</th>\n",
       "      <td>86188</td>\n",
       "      <td>58559</td>\n",
       "      <td>3.0</td>\n",
       "      <td>1420070568</td>\n",
       "      <td>2015-01-01 00:02:48</td>\n",
       "      <td>19705</td>\n",
       "      <td>8945</td>\n",
       "    </tr>\n",
       "    <tr>\n",
       "      <th>3</th>\n",
       "      <td>86188</td>\n",
       "      <td>110</td>\n",
       "      <td>2.5</td>\n",
       "      <td>1420070579</td>\n",
       "      <td>2015-01-01 00:02:59</td>\n",
       "      <td>19705</td>\n",
       "      <td>93</td>\n",
       "    </tr>\n",
       "    <tr>\n",
       "      <th>4</th>\n",
       "      <td>86188</td>\n",
       "      <td>293</td>\n",
       "      <td>3.5</td>\n",
       "      <td>1420070583</td>\n",
       "      <td>2015-01-01 00:03:03</td>\n",
       "      <td>19705</td>\n",
       "      <td>245</td>\n",
       "    </tr>\n",
       "  </tbody>\n",
       "</table>\n",
       "</div>"
      ],
      "text/plain": [
       "   userId  movieId  rating   timestamp                  ts      u     i\n",
       "0   86188     1196     3.5  1420070535 2015-01-01 00:02:15  19705   873\n",
       "1   86188     1036     4.0  1420070551 2015-01-01 00:02:31  19705   772\n",
       "2   86188    58559     3.0  1420070568 2015-01-01 00:02:48  19705  8945\n",
       "3   86188      110     2.5  1420070579 2015-01-01 00:02:59  19705    93\n",
       "4   86188      293     3.5  1420070583 2015-01-01 00:03:03  19705   245"
      ]
     },
     "execution_count": 10,
     "metadata": {},
     "output_type": "execute_result"
    }
   ],
   "source": [
    "le_u, le_i = LabelEncoder(), LabelEncoder()\n",
    "train[\"u\"] = le_u.fit_transform(train[\"userId\"])\n",
    "train[\"i\"] = le_i.fit_transform(train[\"movieId\"])\n",
    "train.head()"
   ]
  },
  {
   "cell_type": "code",
   "execution_count": 11,
   "metadata": {
    "execution": {
     "iopub.execute_input": "2025-09-05T20:48:35.848697Z",
     "iopub.status.busy": "2025-09-05T20:48:35.848100Z",
     "iopub.status.idle": "2025-09-05T20:48:35.855046Z",
     "shell.execute_reply": "2025-09-05T20:48:35.853777Z",
     "shell.execute_reply.started": "2025-09-05T20:48:35.848657Z"
    }
   },
   "outputs": [],
   "source": [
    "# Encode userId and movieId same as train set\n",
    "def encode_u_i(df):\n",
    "    d = df[df[\"userId\"].isin(le_u.classes_) & df[\"movieId\"].isin(le_i.classes_)].copy()\n",
    "    \n",
    "    d[\"u\"] = le_u.transform(d[\"userId\"])\n",
    "    d[\"i\"] = le_i.transform(d[\"movieId\"])\n",
    "\n",
    "    return d"
   ]
  },
  {
   "cell_type": "code",
   "execution_count": 12,
   "metadata": {
    "execution": {
     "iopub.execute_input": "2025-09-05T20:48:35.856926Z",
     "iopub.status.busy": "2025-09-05T20:48:35.856067Z",
     "iopub.status.idle": "2025-09-05T20:48:36.021634Z",
     "shell.execute_reply": "2025-09-05T20:48:36.020702Z",
     "shell.execute_reply.started": "2025-09-05T20:48:35.856887Z"
    }
   },
   "outputs": [
    {
     "data": {
      "text/plain": [
       "(37216, 19814)"
      ]
     },
     "execution_count": 12,
     "metadata": {},
     "output_type": "execute_result"
    }
   ],
   "source": [
    "valid = encode_u_i(valid)\n",
    "test = encode_u_i(test)\n",
    "\n",
    "n_users, n_items = len(le_u.classes_), len(le_i.classes_)\n",
    "n_users, n_items"
   ]
  },
  {
   "cell_type": "markdown",
   "metadata": {},
   "source": [
    "### <span style=\"color:blue\"> Create sparse (user-item) matrix → Learn latent factors using SVD </span>"
   ]
  },
  {
   "cell_type": "code",
   "execution_count": 13,
   "metadata": {
    "execution": {
     "iopub.execute_input": "2025-09-05T20:48:36.022695Z",
     "iopub.status.busy": "2025-09-05T20:48:36.022495Z",
     "iopub.status.idle": "2025-09-05T20:48:43.356246Z",
     "shell.execute_reply": "2025-09-05T20:48:43.354635Z",
     "shell.execute_reply.started": "2025-09-05T20:48:36.022680Z"
    }
   },
   "outputs": [],
   "source": [
    "n_users = train[\"u\"].max() + 1\n",
    "n_items = train[\"i\"].max() + 1\n",
    "\n",
    "# Generate a sparse matrix (data, (row, col))\n",
    "R = sp.coo_matrix(\n",
    "    (train[\"rating\"].values,\n",
    "    (train[\"u\"].values, train[\"i\"].values)),\n",
    "    shape = (n_users, n_items)\n",
    ").tocsr()\n",
    "\n",
    "K = 64\n",
    "u_f, s, vt = svds(R.astype(\"float32\"), k=K)\n",
    "\n",
    "S = np.diag(s)\n",
    "U = u_f @ S      # Users embedding vector (n_users, K)\n",
    "V = vt.T         # Items embedding vector (n_items, K)\n",
    "\n",
    "\n",
    "# Function to predict how much a user will like an item \n",
    "# by taking the dot product of their embedding vectors.\n",
    "def mf_score(u_idx, i_idx):\n",
    "    # embedding vector(s) of selected users * embedding vector(s) of selected items\n",
    "    return (U[u_idx] * V[i_idx]).sum(axis=1)"
   ]
  },
  {
   "cell_type": "markdown",
   "metadata": {},
   "source": [
    "### <span style=\"color:blue\"> Simple ranking metrics function (Precision@K, Recall@K) </span>"
   ]
  },
  {
   "cell_type": "code",
   "execution_count": 14,
   "metadata": {
    "execution": {
     "iopub.execute_input": "2025-09-05T20:48:43.359841Z",
     "iopub.status.busy": "2025-09-05T20:48:43.359556Z",
     "iopub.status.idle": "2025-09-05T20:48:43.368980Z",
     "shell.execute_reply": "2025-09-05T20:48:43.367336Z",
     "shell.execute_reply.started": "2025-09-05T20:48:43.359821Z"
    }
   },
   "outputs": [],
   "source": [
    "def precision_recall_at_k(df, k=10, threshold=4.0):\n",
    "    precs, recs = [], []\n",
    "    for u, g in df.groupby([\"u\"]):\n",
    "        g = g.copy()\n",
    "        g[\"score\"] = mf_score(g[\"u\"].values, g[\"i\"].values)   # -> u_idx, i_idx\n",
    "        g = g.sort_values(\"score\", ascending=False)    # descending\n",
    "        topk = g.head(k)    # k: TP + FP (high score)\n",
    "\n",
    "        hits = (topk[\"rating\"] >= threshold).sum()     # actual high rates among predicted with high scores\n",
    "        total_pos = (g[\"rating\"] >= threshold).sum()   # actually highly rated\n",
    "\n",
    "        if k > 0: precs.append(hits / k)                     # TP / (TP + FP)\n",
    "        if total_pos > 0: recs.append(hits / total_pos)      # TP / (TP + FN)\n",
    "\n",
    "    return (np.mean(precs) if precs else 0.0,\n",
    "            np.mean(recs) if recs else 0.0)"
   ]
  },
  {
   "cell_type": "markdown",
   "metadata": {},
   "source": [
    "### <span style=\"color:blue\"> Measure MF baseline performance (on the test set) </span>"
   ]
  },
  {
   "cell_type": "code",
   "execution_count": 15,
   "metadata": {
    "execution": {
     "iopub.execute_input": "2025-09-05T20:48:43.370927Z",
     "iopub.status.busy": "2025-09-05T20:48:43.370535Z",
     "iopub.status.idle": "2025-09-05T20:49:21.333921Z",
     "shell.execute_reply": "2025-09-05T20:49:21.332507Z",
     "shell.execute_reply.started": "2025-09-05T20:48:43.370871Z"
    }
   },
   "outputs": [
    {
     "name": "stdout",
     "output_type": "stream",
     "text": [
      "{'MF_Precision@10': 0.3877, 'MF_Recall@10': 0.677}\n",
      "K=32 : Precision@10: 0.3878 & Recall@10: 0.6770\n",
      "K=64 : Precision@10: 0.3877 & Recall@10: 0.6770\n",
      "K=96 : Precision@10: 0.3857 & Recall@10: 0.6755\n"
     ]
    }
   ],
   "source": [
    "p10, r10 = precision_recall_at_k(test, k=10, threshold=4.0)\n",
    "print({\"MF_Precision@10\":round(p10, 4), \"MF_Recall@10\":round(r10, 4)})\n",
    "\n",
    "K_list = [32, 64, 96]\n",
    "for K in K_list:\n",
    "    u_f, s, vt = svds(R.astype(\"float32\"), k=K)\n",
    "    S = np.diag(s)\n",
    "    U = u_f @ S\n",
    "    V = vt.T\n",
    "    prec, rec = precision_recall_at_k(test, k=10, threshold=4.0)\n",
    "    print(f\"K={K} : Precision@10: {prec:.4f} & Recall@10: {rec:.4f}\")"
   ]
  },
  {
   "cell_type": "markdown",
   "metadata": {},
   "source": [
    "### <span style=\"color:blue\"> Generate and save Top-N candidate recommendations (*based on Score*) per user </span>"
   ]
  },
  {
   "cell_type": "code",
   "execution_count": 16,
   "metadata": {
    "execution": {
     "iopub.execute_input": "2025-09-05T20:49:21.335468Z",
     "iopub.status.busy": "2025-09-05T20:49:21.335169Z",
     "iopub.status.idle": "2025-09-05T20:49:25.713333Z",
     "shell.execute_reply": "2025-09-05T20:49:25.712152Z",
     "shell.execute_reply.started": "2025-09-05T20:49:21.335443Z"
    }
   },
   "outputs": [
    {
     "data": {
      "text/html": [
       "<div>\n",
       "<style scoped>\n",
       "    .dataframe tbody tr th:only-of-type {\n",
       "        vertical-align: middle;\n",
       "    }\n",
       "\n",
       "    .dataframe tbody tr th {\n",
       "        vertical-align: top;\n",
       "    }\n",
       "\n",
       "    .dataframe thead th {\n",
       "        text-align: right;\n",
       "    }\n",
       "</style>\n",
       "<table border=\"1\" class=\"dataframe\">\n",
       "  <thead>\n",
       "    <tr style=\"text-align: right;\">\n",
       "      <th></th>\n",
       "      <th>userId</th>\n",
       "      <th>movieId</th>\n",
       "      <th>rating</th>\n",
       "      <th>timestamp</th>\n",
       "      <th>ts</th>\n",
       "      <th>u</th>\n",
       "      <th>i</th>\n",
       "      <th>score</th>\n",
       "    </tr>\n",
       "  </thead>\n",
       "  <tbody>\n",
       "    <tr>\n",
       "      <th>0</th>\n",
       "      <td>3</td>\n",
       "      <td>88140</td>\n",
       "      <td>3.5</td>\n",
       "      <td>1566089895</td>\n",
       "      <td>2019-08-18 00:58:15</td>\n",
       "      <td>0</td>\n",
       "      <td>11162</td>\n",
       "      <td>3.579875</td>\n",
       "    </tr>\n",
       "    <tr>\n",
       "      <th>1</th>\n",
       "      <td>3</td>\n",
       "      <td>6365</td>\n",
       "      <td>4.0</td>\n",
       "      <td>1566089715</td>\n",
       "      <td>2019-08-18 00:55:15</td>\n",
       "      <td>0</td>\n",
       "      <td>4742</td>\n",
       "      <td>3.079805</td>\n",
       "    </tr>\n",
       "    <tr>\n",
       "      <th>2</th>\n",
       "      <td>3</td>\n",
       "      <td>6537</td>\n",
       "      <td>3.5</td>\n",
       "      <td>1566089810</td>\n",
       "      <td>2019-08-18 00:56:50</td>\n",
       "      <td>0</td>\n",
       "      <td>4857</td>\n",
       "      <td>2.940701</td>\n",
       "    </tr>\n",
       "    <tr>\n",
       "      <th>3</th>\n",
       "      <td>3</td>\n",
       "      <td>88125</td>\n",
       "      <td>3.5</td>\n",
       "      <td>1566091623</td>\n",
       "      <td>2019-08-18 01:27:03</td>\n",
       "      <td>0</td>\n",
       "      <td>11157</td>\n",
       "      <td>2.744191</td>\n",
       "    </tr>\n",
       "    <tr>\n",
       "      <th>4</th>\n",
       "      <td>3</td>\n",
       "      <td>81834</td>\n",
       "      <td>3.5</td>\n",
       "      <td>1566091630</td>\n",
       "      <td>2019-08-18 01:27:10</td>\n",
       "      <td>0</td>\n",
       "      <td>10695</td>\n",
       "      <td>2.680147</td>\n",
       "    </tr>\n",
       "  </tbody>\n",
       "</table>\n",
       "</div>"
      ],
      "text/plain": [
       "   userId  movieId  rating   timestamp                  ts  u      i     score\n",
       "0       3    88140     3.5  1566089895 2019-08-18 00:58:15  0  11162  3.579875\n",
       "1       3     6365     4.0  1566089715 2019-08-18 00:55:15  0   4742  3.079805\n",
       "2       3     6537     3.5  1566089810 2019-08-18 00:56:50  0   4857  2.940701\n",
       "3       3    88125     3.5  1566091623 2019-08-18 01:27:03  0  11157  2.744191\n",
       "4       3    81834     3.5  1566091630 2019-08-18 01:27:10  0  10695  2.680147"
      ]
     },
     "execution_count": 16,
     "metadata": {},
     "output_type": "execute_result"
    }
   ],
   "source": [
    "def score_get_topk(df, k=100):\n",
    "    out = []\n",
    "    for u, g in df.groupby([\"u\"]):\n",
    "        g = g.copy()\n",
    "        g[\"score\"] = mf_score(g[\"u\"].values, g[\"i\"].values)\n",
    "        out.append(g.sort_values(\"score\", ascending=False).head(k))\n",
    "\n",
    "    return pd.concat(out, axis=0).reset_index(drop=True)\n",
    "\n",
    "test_top100 = score_get_topk(test, k=100)\n",
    "test_top100.head()"
   ]
  },
  {
   "cell_type": "markdown",
   "metadata": {},
   "source": [
    "### <span style=\"color:blue\"> Item Feature Engineering (**Genres** + **Popularity** + **Recency**) </span>"
   ]
  },
  {
   "cell_type": "code",
   "execution_count": 17,
   "metadata": {
    "execution": {
     "iopub.execute_input": "2025-09-05T20:49:25.714771Z",
     "iopub.status.busy": "2025-09-05T20:49:25.714524Z",
     "iopub.status.idle": "2025-09-05T20:49:25.828308Z",
     "shell.execute_reply": "2025-09-05T20:49:25.827084Z",
     "shell.execute_reply.started": "2025-09-05T20:49:25.714753Z"
    }
   },
   "outputs": [
    {
     "data": {
      "text/html": [
       "<div>\n",
       "<style scoped>\n",
       "    .dataframe tbody tr th:only-of-type {\n",
       "        vertical-align: middle;\n",
       "    }\n",
       "\n",
       "    .dataframe tbody tr th {\n",
       "        vertical-align: top;\n",
       "    }\n",
       "\n",
       "    .dataframe thead th {\n",
       "        text-align: right;\n",
       "    }\n",
       "</style>\n",
       "<table border=\"1\" class=\"dataframe\">\n",
       "  <thead>\n",
       "    <tr style=\"text-align: right;\">\n",
       "      <th></th>\n",
       "      <th>movieId</th>\n",
       "      <th>title</th>\n",
       "      <th>genres</th>\n",
       "    </tr>\n",
       "  </thead>\n",
       "  <tbody>\n",
       "    <tr>\n",
       "      <th>0</th>\n",
       "      <td>1</td>\n",
       "      <td>Toy Story (1995)</td>\n",
       "      <td>Adventure|Animation|Children|Comedy|Fantasy</td>\n",
       "    </tr>\n",
       "    <tr>\n",
       "      <th>1</th>\n",
       "      <td>2</td>\n",
       "      <td>Jumanji (1995)</td>\n",
       "      <td>Adventure|Children|Fantasy</td>\n",
       "    </tr>\n",
       "    <tr>\n",
       "      <th>2</th>\n",
       "      <td>3</td>\n",
       "      <td>Grumpier Old Men (1995)</td>\n",
       "      <td>Comedy|Romance</td>\n",
       "    </tr>\n",
       "    <tr>\n",
       "      <th>3</th>\n",
       "      <td>4</td>\n",
       "      <td>Waiting to Exhale (1995)</td>\n",
       "      <td>Comedy|Drama|Romance</td>\n",
       "    </tr>\n",
       "    <tr>\n",
       "      <th>4</th>\n",
       "      <td>5</td>\n",
       "      <td>Father of the Bride Part II (1995)</td>\n",
       "      <td>Comedy</td>\n",
       "    </tr>\n",
       "  </tbody>\n",
       "</table>\n",
       "</div>"
      ],
      "text/plain": [
       "   movieId                               title  \\\n",
       "0        1                    Toy Story (1995)   \n",
       "1        2                      Jumanji (1995)   \n",
       "2        3             Grumpier Old Men (1995)   \n",
       "3        4            Waiting to Exhale (1995)   \n",
       "4        5  Father of the Bride Part II (1995)   \n",
       "\n",
       "                                        genres  \n",
       "0  Adventure|Animation|Children|Comedy|Fantasy  \n",
       "1                   Adventure|Children|Fantasy  \n",
       "2                               Comedy|Romance  \n",
       "3                         Comedy|Drama|Romance  \n",
       "4                                       Comedy  "
      ]
     },
     "execution_count": 17,
     "metadata": {},
     "output_type": "execute_result"
    }
   ],
   "source": [
    "# Use 'movie.csv'\n",
    "movies = pd.read_csv(f\"{DIR}/movies.csv\")\n",
    "movies.head()"
   ]
  },
  {
   "cell_type": "code",
   "execution_count": 18,
   "metadata": {
    "execution": {
     "iopub.execute_input": "2025-09-05T20:49:25.829492Z",
     "iopub.status.busy": "2025-09-05T20:49:25.829259Z",
     "iopub.status.idle": "2025-09-05T20:49:25.863098Z",
     "shell.execute_reply": "2025-09-05T20:49:25.861947Z",
     "shell.execute_reply.started": "2025-09-05T20:49:25.829476Z"
    }
   },
   "outputs": [
    {
     "data": {
      "text/plain": [
       "['(no genres listed)',\n",
       " 'Action',\n",
       " 'Adventure',\n",
       " 'Animation',\n",
       " 'Children',\n",
       " 'Comedy',\n",
       " 'Crime',\n",
       " 'Documentary',\n",
       " 'Drama',\n",
       " 'Fantasy']"
      ]
     },
     "execution_count": 18,
     "metadata": {},
     "output_type": "execute_result"
    }
   ],
   "source": [
    "# Exclude cold-start (use only encoded by ratings.csv)\n",
    "movies = movies[movies[\"movieId\"].isin(le_i.classes_)].copy()\n",
    "movies[\"i\"] = le_i.transform(movies[\"movieId\"])\n",
    "\n",
    "# Preprocessing for \"genre\" -> new feature\n",
    "movies[\"genres\"] = movies[\"genres\"].fillna(\"(no genres listed)\")\n",
    "movies[\"genres_list\"] = movies[\"genres\"].str.split(\"|\")\n",
    "\n",
    "all_genres = sorted({g for gl in movies[\"genres_list\"] for g in gl})\n",
    "all_genres[:10]"
   ]
  },
  {
   "cell_type": "code",
   "execution_count": 19,
   "metadata": {
    "execution": {
     "iopub.execute_input": "2025-09-05T20:49:25.864690Z",
     "iopub.status.busy": "2025-09-05T20:49:25.864230Z",
     "iopub.status.idle": "2025-09-05T20:49:26.071311Z",
     "shell.execute_reply": "2025-09-05T20:49:26.070333Z",
     "shell.execute_reply.started": "2025-09-05T20:49:25.864660Z"
    }
   },
   "outputs": [
    {
     "data": {
      "text/html": [
       "<div>\n",
       "<style scoped>\n",
       "    .dataframe tbody tr th:only-of-type {\n",
       "        vertical-align: middle;\n",
       "    }\n",
       "\n",
       "    .dataframe tbody tr th {\n",
       "        vertical-align: top;\n",
       "    }\n",
       "\n",
       "    .dataframe thead th {\n",
       "        text-align: right;\n",
       "    }\n",
       "</style>\n",
       "<table border=\"1\" class=\"dataframe\">\n",
       "  <thead>\n",
       "    <tr style=\"text-align: right;\">\n",
       "      <th></th>\n",
       "      <th>movieId</th>\n",
       "      <th>title</th>\n",
       "      <th>genres</th>\n",
       "      <th>i</th>\n",
       "      <th>genres_list</th>\n",
       "      <th>genre_(no genres listed)</th>\n",
       "      <th>genre_Action</th>\n",
       "      <th>genre_Adventure</th>\n",
       "      <th>genre_Animation</th>\n",
       "      <th>genre_Children</th>\n",
       "      <th>...</th>\n",
       "      <th>genre_Film-Noir</th>\n",
       "      <th>genre_Horror</th>\n",
       "      <th>genre_IMAX</th>\n",
       "      <th>genre_Musical</th>\n",
       "      <th>genre_Mystery</th>\n",
       "      <th>genre_Romance</th>\n",
       "      <th>genre_Sci-Fi</th>\n",
       "      <th>genre_Thriller</th>\n",
       "      <th>genre_War</th>\n",
       "      <th>genre_Western</th>\n",
       "    </tr>\n",
       "  </thead>\n",
       "  <tbody>\n",
       "    <tr>\n",
       "      <th>0</th>\n",
       "      <td>1</td>\n",
       "      <td>Toy Story (1995)</td>\n",
       "      <td>Adventure|Animation|Children|Comedy|Fantasy</td>\n",
       "      <td>0</td>\n",
       "      <td>[Adventure, Animation, Children, Comedy, Fantasy]</td>\n",
       "      <td>0</td>\n",
       "      <td>0</td>\n",
       "      <td>1</td>\n",
       "      <td>1</td>\n",
       "      <td>1</td>\n",
       "      <td>...</td>\n",
       "      <td>0</td>\n",
       "      <td>0</td>\n",
       "      <td>0</td>\n",
       "      <td>0</td>\n",
       "      <td>0</td>\n",
       "      <td>0</td>\n",
       "      <td>0</td>\n",
       "      <td>0</td>\n",
       "      <td>0</td>\n",
       "      <td>0</td>\n",
       "    </tr>\n",
       "    <tr>\n",
       "      <th>1</th>\n",
       "      <td>2</td>\n",
       "      <td>Jumanji (1995)</td>\n",
       "      <td>Adventure|Children|Fantasy</td>\n",
       "      <td>1</td>\n",
       "      <td>[Adventure, Children, Fantasy]</td>\n",
       "      <td>0</td>\n",
       "      <td>0</td>\n",
       "      <td>1</td>\n",
       "      <td>0</td>\n",
       "      <td>1</td>\n",
       "      <td>...</td>\n",
       "      <td>0</td>\n",
       "      <td>0</td>\n",
       "      <td>0</td>\n",
       "      <td>0</td>\n",
       "      <td>0</td>\n",
       "      <td>0</td>\n",
       "      <td>0</td>\n",
       "      <td>0</td>\n",
       "      <td>0</td>\n",
       "      <td>0</td>\n",
       "    </tr>\n",
       "    <tr>\n",
       "      <th>2</th>\n",
       "      <td>3</td>\n",
       "      <td>Grumpier Old Men (1995)</td>\n",
       "      <td>Comedy|Romance</td>\n",
       "      <td>2</td>\n",
       "      <td>[Comedy, Romance]</td>\n",
       "      <td>0</td>\n",
       "      <td>0</td>\n",
       "      <td>0</td>\n",
       "      <td>0</td>\n",
       "      <td>0</td>\n",
       "      <td>...</td>\n",
       "      <td>0</td>\n",
       "      <td>0</td>\n",
       "      <td>0</td>\n",
       "      <td>0</td>\n",
       "      <td>0</td>\n",
       "      <td>1</td>\n",
       "      <td>0</td>\n",
       "      <td>0</td>\n",
       "      <td>0</td>\n",
       "      <td>0</td>\n",
       "    </tr>\n",
       "    <tr>\n",
       "      <th>3</th>\n",
       "      <td>4</td>\n",
       "      <td>Waiting to Exhale (1995)</td>\n",
       "      <td>Comedy|Drama|Romance</td>\n",
       "      <td>3</td>\n",
       "      <td>[Comedy, Drama, Romance]</td>\n",
       "      <td>0</td>\n",
       "      <td>0</td>\n",
       "      <td>0</td>\n",
       "      <td>0</td>\n",
       "      <td>0</td>\n",
       "      <td>...</td>\n",
       "      <td>0</td>\n",
       "      <td>0</td>\n",
       "      <td>0</td>\n",
       "      <td>0</td>\n",
       "      <td>0</td>\n",
       "      <td>1</td>\n",
       "      <td>0</td>\n",
       "      <td>0</td>\n",
       "      <td>0</td>\n",
       "      <td>0</td>\n",
       "    </tr>\n",
       "    <tr>\n",
       "      <th>4</th>\n",
       "      <td>5</td>\n",
       "      <td>Father of the Bride Part II (1995)</td>\n",
       "      <td>Comedy</td>\n",
       "      <td>4</td>\n",
       "      <td>[Comedy]</td>\n",
       "      <td>0</td>\n",
       "      <td>0</td>\n",
       "      <td>0</td>\n",
       "      <td>0</td>\n",
       "      <td>0</td>\n",
       "      <td>...</td>\n",
       "      <td>0</td>\n",
       "      <td>0</td>\n",
       "      <td>0</td>\n",
       "      <td>0</td>\n",
       "      <td>0</td>\n",
       "      <td>0</td>\n",
       "      <td>0</td>\n",
       "      <td>0</td>\n",
       "      <td>0</td>\n",
       "      <td>0</td>\n",
       "    </tr>\n",
       "  </tbody>\n",
       "</table>\n",
       "<p>5 rows × 25 columns</p>\n",
       "</div>"
      ],
      "text/plain": [
       "   movieId                               title  \\\n",
       "0        1                    Toy Story (1995)   \n",
       "1        2                      Jumanji (1995)   \n",
       "2        3             Grumpier Old Men (1995)   \n",
       "3        4            Waiting to Exhale (1995)   \n",
       "4        5  Father of the Bride Part II (1995)   \n",
       "\n",
       "                                        genres  i  \\\n",
       "0  Adventure|Animation|Children|Comedy|Fantasy  0   \n",
       "1                   Adventure|Children|Fantasy  1   \n",
       "2                               Comedy|Romance  2   \n",
       "3                         Comedy|Drama|Romance  3   \n",
       "4                                       Comedy  4   \n",
       "\n",
       "                                         genres_list  \\\n",
       "0  [Adventure, Animation, Children, Comedy, Fantasy]   \n",
       "1                     [Adventure, Children, Fantasy]   \n",
       "2                                  [Comedy, Romance]   \n",
       "3                           [Comedy, Drama, Romance]   \n",
       "4                                           [Comedy]   \n",
       "\n",
       "   genre_(no genres listed)  genre_Action  genre_Adventure  genre_Animation  \\\n",
       "0                         0             0                1                1   \n",
       "1                         0             0                1                0   \n",
       "2                         0             0                0                0   \n",
       "3                         0             0                0                0   \n",
       "4                         0             0                0                0   \n",
       "\n",
       "   genre_Children  ...  genre_Film-Noir  genre_Horror  genre_IMAX  \\\n",
       "0               1  ...                0             0           0   \n",
       "1               1  ...                0             0           0   \n",
       "2               0  ...                0             0           0   \n",
       "3               0  ...                0             0           0   \n",
       "4               0  ...                0             0           0   \n",
       "\n",
       "   genre_Musical  genre_Mystery  genre_Romance  genre_Sci-Fi  genre_Thriller  \\\n",
       "0              0              0              0             0               0   \n",
       "1              0              0              0             0               0   \n",
       "2              0              0              1             0               0   \n",
       "3              0              0              1             0               0   \n",
       "4              0              0              0             0               0   \n",
       "\n",
       "   genre_War  genre_Western  \n",
       "0          0              0  \n",
       "1          0              0  \n",
       "2          0              0  \n",
       "3          0              0  \n",
       "4          0              0  \n",
       "\n",
       "[5 rows x 25 columns]"
      ]
     },
     "execution_count": 19,
     "metadata": {},
     "output_type": "execute_result"
    }
   ],
   "source": [
    "for g in all_genres:\n",
    "    movies[f\"genre_{g}\"] = movies[\"genres_list\"].apply(lambda L: int(g in L))\n",
    "\n",
    "movies.head()"
   ]
  },
  {
   "cell_type": "code",
   "execution_count": 20,
   "metadata": {
    "execution": {
     "iopub.execute_input": "2025-09-05T20:49:26.072762Z",
     "iopub.status.busy": "2025-09-05T20:49:26.072387Z",
     "iopub.status.idle": "2025-09-05T20:49:26.080185Z",
     "shell.execute_reply": "2025-09-05T20:49:26.079157Z",
     "shell.execute_reply.started": "2025-09-05T20:49:26.072732Z"
    }
   },
   "outputs": [
    {
     "data": {
      "text/plain": [
       "Index(['movieId', 'title', 'genres', 'i', 'genres_list',\n",
       "       'genre_(no genres listed)', 'genre_Action', 'genre_Adventure',\n",
       "       'genre_Animation', 'genre_Children', 'genre_Comedy', 'genre_Crime',\n",
       "       'genre_Documentary', 'genre_Drama', 'genre_Fantasy', 'genre_Film-Noir',\n",
       "       'genre_Horror', 'genre_IMAX', 'genre_Musical', 'genre_Mystery',\n",
       "       'genre_Romance', 'genre_Sci-Fi', 'genre_Thriller', 'genre_War',\n",
       "       'genre_Western'],\n",
       "      dtype='object')"
      ]
     },
     "execution_count": 20,
     "metadata": {},
     "output_type": "execute_result"
    }
   ],
   "source": [
    "movies.columns"
   ]
  },
  {
   "cell_type": "code",
   "execution_count": 21,
   "metadata": {
    "execution": {
     "iopub.execute_input": "2025-09-05T20:49:26.081378Z",
     "iopub.status.busy": "2025-09-05T20:49:26.081066Z",
     "iopub.status.idle": "2025-09-05T20:49:26.336321Z",
     "shell.execute_reply": "2025-09-05T20:49:26.334959Z",
     "shell.execute_reply.started": "2025-09-05T20:49:26.081352Z"
    }
   },
   "outputs": [
    {
     "data": {
      "text/html": [
       "<div>\n",
       "<style scoped>\n",
       "    .dataframe tbody tr th:only-of-type {\n",
       "        vertical-align: middle;\n",
       "    }\n",
       "\n",
       "    .dataframe tbody tr th {\n",
       "        vertical-align: top;\n",
       "    }\n",
       "\n",
       "    .dataframe thead th {\n",
       "        text-align: right;\n",
       "    }\n",
       "</style>\n",
       "<table border=\"1\" class=\"dataframe\">\n",
       "  <thead>\n",
       "    <tr style=\"text-align: right;\">\n",
       "      <th></th>\n",
       "      <th>i</th>\n",
       "      <th>item_count</th>\n",
       "      <th>item_mean</th>\n",
       "      <th>item_last_ts</th>\n",
       "    </tr>\n",
       "  </thead>\n",
       "  <tbody>\n",
       "    <tr>\n",
       "      <th>0</th>\n",
       "      <td>0</td>\n",
       "      <td>11551</td>\n",
       "      <td>3.781447</td>\n",
       "      <td>2018-10-12 09:09:12</td>\n",
       "    </tr>\n",
       "    <tr>\n",
       "      <th>1</th>\n",
       "      <td>1</td>\n",
       "      <td>3892</td>\n",
       "      <td>3.398253</td>\n",
       "      <td>2018-10-12 12:17:31</td>\n",
       "    </tr>\n",
       "    <tr>\n",
       "      <th>2</th>\n",
       "      <td>2</td>\n",
       "      <td>410</td>\n",
       "      <td>2.906098</td>\n",
       "      <td>2018-10-07 02:08:30</td>\n",
       "    </tr>\n",
       "    <tr>\n",
       "      <th>3</th>\n",
       "      <td>3</td>\n",
       "      <td>73</td>\n",
       "      <td>2.534247</td>\n",
       "      <td>2018-05-10 17:19:59</td>\n",
       "    </tr>\n",
       "    <tr>\n",
       "      <th>4</th>\n",
       "      <td>4</td>\n",
       "      <td>863</td>\n",
       "      <td>2.992468</td>\n",
       "      <td>2018-10-05 19:47:12</td>\n",
       "    </tr>\n",
       "  </tbody>\n",
       "</table>\n",
       "</div>"
      ],
      "text/plain": [
       "   i  item_count  item_mean        item_last_ts\n",
       "0  0       11551   3.781447 2018-10-12 09:09:12\n",
       "1  1        3892   3.398253 2018-10-12 12:17:31\n",
       "2  2         410   2.906098 2018-10-07 02:08:30\n",
       "3  3          73   2.534247 2018-05-10 17:19:59\n",
       "4  4         863   2.992468 2018-10-05 19:47:12"
      ]
     },
     "execution_count": 21,
     "metadata": {},
     "output_type": "execute_result"
    }
   ],
   "source": [
    "item_stats = (train.groupby(\"i\").agg(item_count=(\"rating\", \"size\"),    # popularity\n",
    "                                     item_mean=(\"rating\", \"mean\"),     # quality\n",
    "                                     item_last_ts=(\"ts\", \"max\")).reset_index())    # recency\n",
    "item_stats.head()"
   ]
  },
  {
   "cell_type": "code",
   "execution_count": 22,
   "metadata": {
    "execution": {
     "iopub.execute_input": "2025-09-05T20:49:26.337570Z",
     "iopub.status.busy": "2025-09-05T20:49:26.337193Z",
     "iopub.status.idle": "2025-09-05T20:49:26.362986Z",
     "shell.execute_reply": "2025-09-05T20:49:26.362220Z",
     "shell.execute_reply.started": "2025-09-05T20:49:26.337538Z"
    }
   },
   "outputs": [],
   "source": [
    "# Normalized recency score (0–1) relative to the min(earliest) timestamp\n",
    "ts_min = item_stats[\"item_last_ts\"].min()\n",
    "ts_max = item_stats[\"item_last_ts\"].max()\n",
    "denom = (ts_max - ts_min).total_seconds() or 1\n",
    "item_stats[\"item_recency01\"] = (item_stats[\"item_last_ts\"] - ts_min).dt.total_seconds() / denom\n",
    "\n",
    "# Merge item_stats on movies dataframe\n",
    "movie_feats = movies.merge(item_stats, on=\"i\", how=\"left\")\n",
    "movie_feats[\"item_count\"] = movie_feats[\"item_count\"].fillna(0) \n",
    "movie_feats[\"item_mean\"] = movie_feats[\"item_mean\"].fillna(movie_feats[\"item_mean\"].median())\n",
    "movie_feats[\"item_recency01\"] = movie_feats[\"item_recency01\"].fillna(0)"
   ]
  },
  {
   "cell_type": "code",
   "execution_count": 23,
   "metadata": {
    "execution": {
     "iopub.execute_input": "2025-09-05T20:49:26.364230Z",
     "iopub.status.busy": "2025-09-05T20:49:26.363841Z",
     "iopub.status.idle": "2025-09-05T20:49:26.391005Z",
     "shell.execute_reply": "2025-09-05T20:49:26.389858Z",
     "shell.execute_reply.started": "2025-09-05T20:49:26.364211Z"
    }
   },
   "outputs": [
    {
     "data": {
      "text/html": [
       "<div>\n",
       "<style scoped>\n",
       "    .dataframe tbody tr th:only-of-type {\n",
       "        vertical-align: middle;\n",
       "    }\n",
       "\n",
       "    .dataframe tbody tr th {\n",
       "        vertical-align: top;\n",
       "    }\n",
       "\n",
       "    .dataframe thead th {\n",
       "        text-align: right;\n",
       "    }\n",
       "</style>\n",
       "<table border=\"1\" class=\"dataframe\">\n",
       "  <thead>\n",
       "    <tr style=\"text-align: right;\">\n",
       "      <th></th>\n",
       "      <th>i</th>\n",
       "      <th>movieId</th>\n",
       "      <th>title</th>\n",
       "      <th>item_count</th>\n",
       "      <th>item_mean</th>\n",
       "      <th>item_recency01</th>\n",
       "      <th>genre_(no genres listed)</th>\n",
       "      <th>genre_Action</th>\n",
       "      <th>genre_Adventure</th>\n",
       "      <th>genre_Animation</th>\n",
       "      <th>...</th>\n",
       "      <th>genre_Film-Noir</th>\n",
       "      <th>genre_Horror</th>\n",
       "      <th>genre_IMAX</th>\n",
       "      <th>genre_Musical</th>\n",
       "      <th>genre_Mystery</th>\n",
       "      <th>genre_Romance</th>\n",
       "      <th>genre_Sci-Fi</th>\n",
       "      <th>genre_Thriller</th>\n",
       "      <th>genre_War</th>\n",
       "      <th>genre_Western</th>\n",
       "    </tr>\n",
       "  </thead>\n",
       "  <tbody>\n",
       "    <tr>\n",
       "      <th>0</th>\n",
       "      <td>0</td>\n",
       "      <td>1</td>\n",
       "      <td>Toy Story (1995)</td>\n",
       "      <td>11551</td>\n",
       "      <td>3.781447</td>\n",
       "      <td>0.999871</td>\n",
       "      <td>0</td>\n",
       "      <td>0</td>\n",
       "      <td>1</td>\n",
       "      <td>1</td>\n",
       "      <td>...</td>\n",
       "      <td>0</td>\n",
       "      <td>0</td>\n",
       "      <td>0</td>\n",
       "      <td>0</td>\n",
       "      <td>0</td>\n",
       "      <td>0</td>\n",
       "      <td>0</td>\n",
       "      <td>0</td>\n",
       "      <td>0</td>\n",
       "      <td>0</td>\n",
       "    </tr>\n",
       "    <tr>\n",
       "      <th>1</th>\n",
       "      <td>1</td>\n",
       "      <td>2</td>\n",
       "      <td>Jumanji (1995)</td>\n",
       "      <td>3892</td>\n",
       "      <td>3.398253</td>\n",
       "      <td>0.999998</td>\n",
       "      <td>0</td>\n",
       "      <td>0</td>\n",
       "      <td>1</td>\n",
       "      <td>0</td>\n",
       "      <td>...</td>\n",
       "      <td>0</td>\n",
       "      <td>0</td>\n",
       "      <td>0</td>\n",
       "      <td>0</td>\n",
       "      <td>0</td>\n",
       "      <td>0</td>\n",
       "      <td>0</td>\n",
       "      <td>0</td>\n",
       "      <td>0</td>\n",
       "      <td>0</td>\n",
       "    </tr>\n",
       "    <tr>\n",
       "      <th>2</th>\n",
       "      <td>2</td>\n",
       "      <td>3</td>\n",
       "      <td>Grumpier Old Men (1995)</td>\n",
       "      <td>410</td>\n",
       "      <td>2.906098</td>\n",
       "      <td>0.994744</td>\n",
       "      <td>0</td>\n",
       "      <td>0</td>\n",
       "      <td>0</td>\n",
       "      <td>0</td>\n",
       "      <td>...</td>\n",
       "      <td>0</td>\n",
       "      <td>0</td>\n",
       "      <td>0</td>\n",
       "      <td>0</td>\n",
       "      <td>0</td>\n",
       "      <td>1</td>\n",
       "      <td>0</td>\n",
       "      <td>0</td>\n",
       "      <td>0</td>\n",
       "      <td>0</td>\n",
       "    </tr>\n",
       "    <tr>\n",
       "      <th>3</th>\n",
       "      <td>3</td>\n",
       "      <td>4</td>\n",
       "      <td>Waiting to Exhale (1995)</td>\n",
       "      <td>73</td>\n",
       "      <td>2.534247</td>\n",
       "      <td>0.850040</td>\n",
       "      <td>0</td>\n",
       "      <td>0</td>\n",
       "      <td>0</td>\n",
       "      <td>0</td>\n",
       "      <td>...</td>\n",
       "      <td>0</td>\n",
       "      <td>0</td>\n",
       "      <td>0</td>\n",
       "      <td>0</td>\n",
       "      <td>0</td>\n",
       "      <td>1</td>\n",
       "      <td>0</td>\n",
       "      <td>0</td>\n",
       "      <td>0</td>\n",
       "      <td>0</td>\n",
       "    </tr>\n",
       "    <tr>\n",
       "      <th>4</th>\n",
       "      <td>4</td>\n",
       "      <td>5</td>\n",
       "      <td>Father of the Bride Part II (1995)</td>\n",
       "      <td>863</td>\n",
       "      <td>2.992468</td>\n",
       "      <td>0.993519</td>\n",
       "      <td>0</td>\n",
       "      <td>0</td>\n",
       "      <td>0</td>\n",
       "      <td>0</td>\n",
       "      <td>...</td>\n",
       "      <td>0</td>\n",
       "      <td>0</td>\n",
       "      <td>0</td>\n",
       "      <td>0</td>\n",
       "      <td>0</td>\n",
       "      <td>0</td>\n",
       "      <td>0</td>\n",
       "      <td>0</td>\n",
       "      <td>0</td>\n",
       "      <td>0</td>\n",
       "    </tr>\n",
       "  </tbody>\n",
       "</table>\n",
       "<p>5 rows × 26 columns</p>\n",
       "</div>"
      ],
      "text/plain": [
       "   i  movieId                               title  item_count  item_mean  \\\n",
       "0  0        1                    Toy Story (1995)       11551   3.781447   \n",
       "1  1        2                      Jumanji (1995)        3892   3.398253   \n",
       "2  2        3             Grumpier Old Men (1995)         410   2.906098   \n",
       "3  3        4            Waiting to Exhale (1995)          73   2.534247   \n",
       "4  4        5  Father of the Bride Part II (1995)         863   2.992468   \n",
       "\n",
       "   item_recency01  genre_(no genres listed)  genre_Action  genre_Adventure  \\\n",
       "0        0.999871                         0             0                1   \n",
       "1        0.999998                         0             0                1   \n",
       "2        0.994744                         0             0                0   \n",
       "3        0.850040                         0             0                0   \n",
       "4        0.993519                         0             0                0   \n",
       "\n",
       "   genre_Animation  ...  genre_Film-Noir  genre_Horror  genre_IMAX  \\\n",
       "0                1  ...                0             0           0   \n",
       "1                0  ...                0             0           0   \n",
       "2                0  ...                0             0           0   \n",
       "3                0  ...                0             0           0   \n",
       "4                0  ...                0             0           0   \n",
       "\n",
       "   genre_Musical  genre_Mystery  genre_Romance  genre_Sci-Fi  genre_Thriller  \\\n",
       "0              0              0              0             0               0   \n",
       "1              0              0              0             0               0   \n",
       "2              0              0              1             0               0   \n",
       "3              0              0              1             0               0   \n",
       "4              0              0              0             0               0   \n",
       "\n",
       "   genre_War  genre_Western  \n",
       "0          0              0  \n",
       "1          0              0  \n",
       "2          0              0  \n",
       "3          0              0  \n",
       "4          0              0  \n",
       "\n",
       "[5 rows x 26 columns]"
      ]
     },
     "execution_count": 23,
     "metadata": {},
     "output_type": "execute_result"
    }
   ],
   "source": [
    "# Selecting the final item feature columns to be used -> final data frame: 'item_features'\n",
    "genres_cols = [c for c in movie_feats.columns if c.startswith(\"genre_\")]\n",
    "item_cols = [\"i\", \"movieId\", \"title\", \"item_count\", \"item_mean\", \"item_recency01\"] + genres_cols\n",
    "item_features = movie_feats[item_cols].copy()\n",
    "item_features.head()"
   ]
  },
  {
   "cell_type": "code",
   "execution_count": 24,
   "metadata": {
    "execution": {
     "iopub.execute_input": "2025-09-05T20:49:26.392027Z",
     "iopub.status.busy": "2025-09-05T20:49:26.391760Z",
     "iopub.status.idle": "2025-09-05T20:49:26.413515Z",
     "shell.execute_reply": "2025-09-05T20:49:26.412168Z",
     "shell.execute_reply.started": "2025-09-05T20:49:26.392006Z"
    }
   },
   "outputs": [
    {
     "data": {
      "text/plain": [
       "(19814, 26)"
      ]
     },
     "execution_count": 24,
     "metadata": {},
     "output_type": "execute_result"
    }
   ],
   "source": [
    "for c in genres_cols:\n",
    "    item_features[c] = item_features[c].astype(\"uint8\")    # int64 -> unit8\n",
    "\n",
    "# change dtype (memory)\n",
    "item_features[\"item_count\"] = item_features[\"item_count\"].astype(\"int32\")\n",
    "item_features[\"item_mean\"] = item_features[\"item_mean\"].astype(\"float32\")\n",
    "item_features[\"item_recency01\"] = item_features[\"item_recency01\"].astype(\"float32\")\n",
    "\n",
    "item_features.shape"
   ]
  },
  {
   "cell_type": "code",
   "execution_count": 25,
   "metadata": {
    "execution": {
     "iopub.execute_input": "2025-09-05T20:49:26.415481Z",
     "iopub.status.busy": "2025-09-05T20:49:26.414765Z",
     "iopub.status.idle": "2025-09-05T20:49:47.453303Z",
     "shell.execute_reply": "2025-09-05T20:49:47.452377Z",
     "shell.execute_reply.started": "2025-09-05T20:49:26.415446Z"
    }
   },
   "outputs": [],
   "source": [
    "TOPK = 50\n",
    "BATCH = 500\n",
    "OUT_DIR = \"/kaggle/working/batch\"\n",
    "os.makedirs(OUT_DIR, exist_ok=True)\n",
    "\n",
    "# Indices dictioniary if the users' \"seen\" items \n",
    "seen_dict = (\n",
    "    train.groupby(\"u\")[\"i\"].apply(lambda x: x.values.astype(np.int64)).to_dict()\n",
    ")\n",
    "\n",
    "Vt = V.T.astype(np.float32, copy=False)    # (K, n_items)\n",
    "\n",
    "all_users = np.arange(n_users, dtype=np.int64)\n",
    "part_files = []\n",
    "for bi, start in enumerate(range(0, n_users, BATCH)):\n",
    "    end = min(start + BATCH, n_users)\n",
    "    batch_users = all_users[start:end]\n",
    "    Ubatch = U[batch_users].astype(np.float32, copy=False)\n",
    "\n",
    "    scores = Ubatch @ Vt     # (batch, n_items)\n",
    "\n",
    "    # Mask as -np.inf using seen_dict\n",
    "    for j, u in enumerate(batch_users):\n",
    "        seen_items = seen_dict.get(u, None)\n",
    "        if seen_items is not None and len(seen_items) > 0:\n",
    "            scores[j, seen_items] = -np.inf\n",
    "\n",
    "    idx_topk = np.argpartition(scores, -TOPK, axis=1)[:, -TOPK:]          # indices for the top K items in each user's row (batch, TOPK)\n",
    "    part_scores = np.take_along_axis(scores, idx_topk, axis=1)            # scores at the idx_topk (batch, TOPK)\n",
    "    order_in_part = np.argsort(-part_scores, axis=1)                      # \"sorting index\" of topk scores\n",
    "    \n",
    "    topk_idx_sorted = np.take_along_axis(idx_topk, order_in_part, axis=1) # item indices from sorted (batch, TOPK)\n",
    "    topk_scores = np.take_along_axis(part_scores, order_in_part, axis=1)  # sorted scores (batch, TOPK)\n",
    "\n",
    "    uu = np.repeat(batch_users, TOPK).astype(np.int64)\n",
    "    ii = topk_idx_sorted.reshape(-1).astype(np.int64)   # flattened TOPK idx\n",
    "    ss = topk_scores.reshape(-1).astype(np.float32)     # flattened TOPK scores\n",
    "    \n",
    "    df_part = pd.DataFrame({\"u\": uu, \"i\": ii, \"mf_score\": ss})\n",
    "\n",
    "    part_path = f\"{OUT_DIR}/candidates_part_{bi:03d}.parquet\"\n",
    "    df_part.to_parquet(part_path, index=False)\n",
    "    part_files.append(part_path)\n",
    "\n",
    "    del scores, idx_topk, part_scores, order_in_part, topk_idx_sorted, topk_scores, df_part, uu, ii, ss\n",
    "    gc.collect()"
   ]
  },
  {
   "cell_type": "code",
   "execution_count": 26,
   "metadata": {
    "execution": {
     "iopub.execute_input": "2025-09-05T20:49:47.454532Z",
     "iopub.status.busy": "2025-09-05T20:49:47.454254Z",
     "iopub.status.idle": "2025-09-05T20:49:49.517801Z",
     "shell.execute_reply": "2025-09-05T20:49:49.516991Z",
     "shell.execute_reply.started": "2025-09-05T20:49:47.454512Z"
    }
   },
   "outputs": [
    {
     "data": {
      "text/html": [
       "<div>\n",
       "<style scoped>\n",
       "    .dataframe tbody tr th:only-of-type {\n",
       "        vertical-align: middle;\n",
       "    }\n",
       "\n",
       "    .dataframe tbody tr th {\n",
       "        vertical-align: top;\n",
       "    }\n",
       "\n",
       "    .dataframe thead th {\n",
       "        text-align: right;\n",
       "    }\n",
       "</style>\n",
       "<table border=\"1\" class=\"dataframe\">\n",
       "  <thead>\n",
       "    <tr style=\"text-align: right;\">\n",
       "      <th></th>\n",
       "      <th>genre_(no genres listed)</th>\n",
       "      <th>genre_Action</th>\n",
       "      <th>genre_Adventure</th>\n",
       "      <th>genre_Animation</th>\n",
       "      <th>genre_Children</th>\n",
       "      <th>genre_Comedy</th>\n",
       "      <th>genre_Crime</th>\n",
       "      <th>genre_Documentary</th>\n",
       "      <th>genre_Drama</th>\n",
       "      <th>genre_Fantasy</th>\n",
       "      <th>genre_Film-Noir</th>\n",
       "      <th>genre_Horror</th>\n",
       "      <th>genre_IMAX</th>\n",
       "      <th>genre_Musical</th>\n",
       "      <th>genre_Mystery</th>\n",
       "      <th>genre_Romance</th>\n",
       "      <th>genre_Sci-Fi</th>\n",
       "      <th>genre_Thriller</th>\n",
       "      <th>genre_War</th>\n",
       "      <th>genre_Western</th>\n",
       "    </tr>\n",
       "    <tr>\n",
       "      <th>u</th>\n",
       "      <th></th>\n",
       "      <th></th>\n",
       "      <th></th>\n",
       "      <th></th>\n",
       "      <th></th>\n",
       "      <th></th>\n",
       "      <th></th>\n",
       "      <th></th>\n",
       "      <th></th>\n",
       "      <th></th>\n",
       "      <th></th>\n",
       "      <th></th>\n",
       "      <th></th>\n",
       "      <th></th>\n",
       "      <th></th>\n",
       "      <th></th>\n",
       "      <th></th>\n",
       "      <th></th>\n",
       "      <th></th>\n",
       "      <th></th>\n",
       "    </tr>\n",
       "  </thead>\n",
       "  <tbody>\n",
       "    <tr>\n",
       "      <th>0</th>\n",
       "      <td>0.0</td>\n",
       "      <td>0.524161</td>\n",
       "      <td>0.323198</td>\n",
       "      <td>0.076656</td>\n",
       "      <td>0.068369</td>\n",
       "      <td>0.258973</td>\n",
       "      <td>0.180245</td>\n",
       "      <td>0.006215</td>\n",
       "      <td>0.368777</td>\n",
       "      <td>0.122235</td>\n",
       "      <td>0.008287</td>\n",
       "      <td>0.078728</td>\n",
       "      <td>0.130522</td>\n",
       "      <td>0.010359</td>\n",
       "      <td>0.099446</td>\n",
       "      <td>0.105661</td>\n",
       "      <td>0.401926</td>\n",
       "      <td>0.389495</td>\n",
       "      <td>0.043507</td>\n",
       "      <td>0.010359</td>\n",
       "    </tr>\n",
       "    <tr>\n",
       "      <th>1</th>\n",
       "      <td>0.0</td>\n",
       "      <td>0.228558</td>\n",
       "      <td>0.163256</td>\n",
       "      <td>0.065302</td>\n",
       "      <td>0.065302</td>\n",
       "      <td>0.391814</td>\n",
       "      <td>0.424465</td>\n",
       "      <td>0.000000</td>\n",
       "      <td>0.555070</td>\n",
       "      <td>0.097953</td>\n",
       "      <td>0.000000</td>\n",
       "      <td>0.032651</td>\n",
       "      <td>0.032651</td>\n",
       "      <td>0.000000</td>\n",
       "      <td>0.097953</td>\n",
       "      <td>0.261209</td>\n",
       "      <td>0.163256</td>\n",
       "      <td>0.391814</td>\n",
       "      <td>0.032651</td>\n",
       "      <td>0.000000</td>\n",
       "    </tr>\n",
       "    <tr>\n",
       "      <th>2</th>\n",
       "      <td>0.0</td>\n",
       "      <td>0.234978</td>\n",
       "      <td>0.313304</td>\n",
       "      <td>0.274141</td>\n",
       "      <td>0.117489</td>\n",
       "      <td>0.078326</td>\n",
       "      <td>0.234978</td>\n",
       "      <td>0.000000</td>\n",
       "      <td>0.704934</td>\n",
       "      <td>0.313304</td>\n",
       "      <td>0.000000</td>\n",
       "      <td>0.000000</td>\n",
       "      <td>0.000000</td>\n",
       "      <td>0.000000</td>\n",
       "      <td>0.039163</td>\n",
       "      <td>0.234978</td>\n",
       "      <td>0.078326</td>\n",
       "      <td>0.156652</td>\n",
       "      <td>0.117489</td>\n",
       "      <td>0.000000</td>\n",
       "    </tr>\n",
       "    <tr>\n",
       "      <th>3</th>\n",
       "      <td>0.0</td>\n",
       "      <td>0.493636</td>\n",
       "      <td>0.435561</td>\n",
       "      <td>0.319411</td>\n",
       "      <td>0.290374</td>\n",
       "      <td>0.319411</td>\n",
       "      <td>0.058075</td>\n",
       "      <td>0.000000</td>\n",
       "      <td>0.145187</td>\n",
       "      <td>0.116150</td>\n",
       "      <td>0.000000</td>\n",
       "      <td>0.000000</td>\n",
       "      <td>0.319411</td>\n",
       "      <td>0.058075</td>\n",
       "      <td>0.029037</td>\n",
       "      <td>0.087112</td>\n",
       "      <td>0.319411</td>\n",
       "      <td>0.145187</td>\n",
       "      <td>0.058075</td>\n",
       "      <td>0.000000</td>\n",
       "    </tr>\n",
       "    <tr>\n",
       "      <th>4</th>\n",
       "      <td>0.0</td>\n",
       "      <td>0.406509</td>\n",
       "      <td>0.360489</td>\n",
       "      <td>0.340036</td>\n",
       "      <td>0.145730</td>\n",
       "      <td>0.329809</td>\n",
       "      <td>0.125276</td>\n",
       "      <td>0.017897</td>\n",
       "      <td>0.470425</td>\n",
       "      <td>0.199419</td>\n",
       "      <td>0.002557</td>\n",
       "      <td>0.099710</td>\n",
       "      <td>0.092040</td>\n",
       "      <td>0.056246</td>\n",
       "      <td>0.074143</td>\n",
       "      <td>0.148286</td>\n",
       "      <td>0.276119</td>\n",
       "      <td>0.230099</td>\n",
       "      <td>0.061360</td>\n",
       "      <td>0.007670</td>\n",
       "    </tr>\n",
       "  </tbody>\n",
       "</table>\n",
       "</div>"
      ],
      "text/plain": [
       "   genre_(no genres listed)  genre_Action  genre_Adventure  genre_Animation  \\\n",
       "u                                                                             \n",
       "0                       0.0      0.524161         0.323198         0.076656   \n",
       "1                       0.0      0.228558         0.163256         0.065302   \n",
       "2                       0.0      0.234978         0.313304         0.274141   \n",
       "3                       0.0      0.493636         0.435561         0.319411   \n",
       "4                       0.0      0.406509         0.360489         0.340036   \n",
       "\n",
       "   genre_Children  genre_Comedy  genre_Crime  genre_Documentary  genre_Drama  \\\n",
       "u                                                                              \n",
       "0        0.068369      0.258973     0.180245           0.006215     0.368777   \n",
       "1        0.065302      0.391814     0.424465           0.000000     0.555070   \n",
       "2        0.117489      0.078326     0.234978           0.000000     0.704934   \n",
       "3        0.290374      0.319411     0.058075           0.000000     0.145187   \n",
       "4        0.145730      0.329809     0.125276           0.017897     0.470425   \n",
       "\n",
       "   genre_Fantasy  genre_Film-Noir  genre_Horror  genre_IMAX  genre_Musical  \\\n",
       "u                                                                            \n",
       "0       0.122235         0.008287      0.078728    0.130522       0.010359   \n",
       "1       0.097953         0.000000      0.032651    0.032651       0.000000   \n",
       "2       0.313304         0.000000      0.000000    0.000000       0.000000   \n",
       "3       0.116150         0.000000      0.000000    0.319411       0.058075   \n",
       "4       0.199419         0.002557      0.099710    0.092040       0.056246   \n",
       "\n",
       "   genre_Mystery  genre_Romance  genre_Sci-Fi  genre_Thriller  genre_War  \\\n",
       "u                                                                          \n",
       "0       0.099446       0.105661      0.401926        0.389495   0.043507   \n",
       "1       0.097953       0.261209      0.163256        0.391814   0.032651   \n",
       "2       0.039163       0.234978      0.078326        0.156652   0.117489   \n",
       "3       0.029037       0.087112      0.319411        0.145187   0.058075   \n",
       "4       0.074143       0.148286      0.276119        0.230099   0.061360   \n",
       "\n",
       "   genre_Western  \n",
       "u                 \n",
       "0       0.010359  \n",
       "1       0.000000  \n",
       "2       0.000000  \n",
       "3       0.000000  \n",
       "4       0.007670  "
      ]
     },
     "execution_count": 26,
     "metadata": {},
     "output_type": "execute_result"
    }
   ],
   "source": [
    "from sklearn.preprocessing import normalize\n",
    "\n",
    "# Label valid and test set to evaluate the predictions\n",
    "valid_label = valid.copy()\n",
    "valid_label[\"label\"] = (valid_label[\"rating\"] >= 4.0).astype(np.int8)    # label only when ratings higher than 4.0\n",
    "valid_label = valid_label[[\"u\", \"i\", \"label\"]]\n",
    "\n",
    "test_label = test.copy()\n",
    "test_label[\"label\"] = (test_label[\"rating\"] >= 4.0).astype(np.int8)      # label only when ratings higher than 4.0\n",
    "test_label = test_label[[\"u\", \"i\", \"label\"]]\n",
    "\n",
    "valid_users = set(valid[\"u\"].unique())\n",
    "test_users = set(test[\"u\"].unique())\n",
    "\n",
    "genre_cols = [c for c in item_features.columns if c.startswith(\"genre_\")]\n",
    "\n",
    "# get mean (one-hot vec) of genres by each user\n",
    "# which genre each user prefers\n",
    "user_genre = (\n",
    "    train.merge(item_features[[\"i\"] + genre_cols], on=\"i\").groupby(\"u\")[genre_cols].mean().fillna(0.0)\n",
    ")\n",
    "\n",
    "# user_genre.head()\n",
    "\n",
    "# L2 normalization -> cosine similarity with dot product\n",
    "user_genre = pd.DataFrame(\n",
    "    normalize(user_genre.values, axis=1), index=user_genre.index, columns = genre_cols\n",
    ").astype(\"float32\")\n",
    "\n",
    "user_genre.head()"
   ]
  },
  {
   "cell_type": "markdown",
   "metadata": {},
   "source": [
    "### <span style=\"color:blue\"> Hybrid Ranking </span>"
   ]
  },
  {
   "cell_type": "code",
   "execution_count": 27,
   "metadata": {
    "execution": {
     "iopub.execute_input": "2025-09-05T20:49:49.518753Z",
     "iopub.status.busy": "2025-09-05T20:49:49.518552Z",
     "iopub.status.idle": "2025-09-05T20:49:49.527914Z",
     "shell.execute_reply": "2025-09-05T20:49:49.526871Z",
     "shell.execute_reply.started": "2025-09-05T20:49:49.518737Z"
    }
   },
   "outputs": [],
   "source": [
    "# Current: item_features, user_genre, genre_cols, valid_labels, test_labels, part_files\n",
    "FEATURES = [\"mf_score\", \"item_count\", \"item_mean\", \"item_recency01\", \"genre_sim\"] + list(genres_cols)\n",
    "\n",
    "def build_table(parts, target_users, labels_df, max_rows=None):\n",
    "    out, n = [], 0\n",
    "    for p in parts:    # for each user (topk recommendation data)\n",
    "        df = pd.read_parquet(p, columns=[\"u\", \"i\", \"mf_score\"])    # data saved after scoring (SVD)\n",
    "        df = df[df[\"u\"].isin(target_users)]    # only target users, here, users with (ratings >= 4.0) data\n",
    "        if df.empty:\n",
    "            continue\n",
    "\n",
    "        df = df.merge(item_features, on=\"i\", how=\"left\")    # merge recommendation list & item features on item\n",
    "        ug = user_genre.reindex(df[\"u\"].values).reset_index(drop=True)   # get user genre preference\n",
    "        ug.columns = [c + \"_user\" for c in ug.columns]\n",
    "        df = pd.concat([df.reset_index(drop=True), ug], axis=1)   # score data + item features + genre preference\n",
    "\n",
    "        # here, ug columns are always the same for one user\n",
    "        df[\"genre_sim\"] = (df[genres_cols].values * df[[c + \"_user\" for c in genres_cols]].values).sum(axis=1).astype(\"float32\")\n",
    "        # print(df.head())\n",
    "        df = df.merge(labels_df, on=[\"u\", \"i\"], how=\"left\")    # apply to valid/test set\n",
    "        df[\"label\"] = df[\"label\"].fillna(0).astype(\"int8\")\n",
    "\n",
    "        usecol = [\"u\", \"i\", \"label\"] + FEATURES\n",
    "        df = df[usecol].copy()\n",
    "        df[\"mf_score\"] = df[\"mf_score\"].astype(\"float32\")\n",
    "\n",
    "        out.append(df)\n",
    "        n += len(df)\n",
    "        del df, ug\n",
    "        gc.collect()\n",
    "\n",
    "        if max_rows and n >= max_rows:\n",
    "            break\n",
    "\n",
    "    return pd.concat(out, ignore_index=True) if out else pd.DataFrame(columns=use)\n"
   ]
  },
  {
   "cell_type": "code",
   "execution_count": 28,
   "metadata": {
    "execution": {
     "iopub.execute_input": "2025-09-05T20:49:49.528923Z",
     "iopub.status.busy": "2025-09-05T20:49:49.528690Z",
     "iopub.status.idle": "2025-09-05T20:50:08.404091Z",
     "shell.execute_reply": "2025-09-05T20:50:08.403121Z",
     "shell.execute_reply.started": "2025-09-05T20:49:49.528901Z"
    }
   },
   "outputs": [
    {
     "name": "stdout",
     "output_type": "stream",
     "text": [
      "train_rank: (200150, 28) pos rate: 0.038840869347989006\n",
      "test_rank : (168700, 28) pos rate: 0.03087729697688204\n"
     ]
    }
   ],
   "source": [
    "train_rank = build_table(part_files, valid_users, valid_label, max_rows=2_000_000)\n",
    "test_rank = build_table(part_files, test_users, test_label, max_rows=None)\n",
    "\n",
    "print(\"train_rank:\", train_rank.shape, \"pos rate:\", float(train_rank[\"label\"].mean()))\n",
    "print(\"test_rank :\", test_rank.shape,  \"pos rate:\", float(test_rank[\"label\"].mean()))"
   ]
  },
  {
   "cell_type": "markdown",
   "metadata": {},
   "source": [
    "### <span style=\"color:blue\"> LightGBM </span>"
   ]
  },
  {
   "cell_type": "code",
   "execution_count": 29,
   "metadata": {
    "execution": {
     "iopub.execute_input": "2025-09-05T20:50:08.405272Z",
     "iopub.status.busy": "2025-09-05T20:50:08.404995Z",
     "iopub.status.idle": "2025-09-05T20:50:17.731076Z",
     "shell.execute_reply": "2025-09-05T20:50:17.729351Z",
     "shell.execute_reply.started": "2025-09-05T20:50:08.405242Z"
    }
   },
   "outputs": [
    {
     "name": "stdout",
     "output_type": "stream",
     "text": [
      "Training until validation scores don't improve for 100 rounds\n",
      "[50]\tvalid's auc: 0.639717\n",
      "[100]\tvalid's auc: 0.637307\n",
      "Early stopping, best iteration is:\n",
      "[19]\tvalid's auc: 0.642491\n"
     ]
    }
   ],
   "source": [
    "import lightgbm as lgb\n",
    "from sklearn.metrics import roc_auc_score\n",
    "\n",
    "FEATURES_PLUS = [\"mf_score\",\"item_count\",\"item_mean\",\"item_recency01\",\"genre_sim\"] + list(genres_cols)\n",
    "\n",
    "msk = (train_rank[\"u\"] % 2 == 0)    # Even: True -> Train / Odd: False -> Valid\n",
    "X_tr = train_rank.loc[msk, FEATURES_PLUS].values\n",
    "y_tr = train_rank.loc[msk, \"label\"].values.astype(\"int8\")\n",
    "X_va = train_rank.loc[~msk, FEATURES_PLUS].values\n",
    "y_va = train_rank.loc[~msk, \"label\"].values.astype(\"int8\")\n",
    "\n",
    "params = {\n",
    "    \"objective\":\"binary\",\n",
    "    \"metrics\":\"auc\",\n",
    "    \"learning_rate\":0.05,\n",
    "    \"num_leaves\":63,\n",
    "    \"min_date_in_leaf\":50,\n",
    "    \"feature_fraction\":0.8,\n",
    "    \"bagging_fraction\":0.8,\n",
    "    \"bagging_freq\":1,\n",
    "    \"verbosity\":-1,\n",
    "    \"force_col_wise\":True\n",
    "}\n",
    "\n",
    "dtrain = lgb.Dataset(X_tr, label=y_tr, free_raw_data=False)\n",
    "dvalid = lgb.Dataset(X_va, label=y_va, reference=dtrain, free_raw_data=False)\n",
    "\n",
    "# Train and Valid\n",
    "gbm = lgb.train(\n",
    "    params,\n",
    "    dtrain,\n",
    "    num_boost_round=1200,\n",
    "    valid_sets=[dvalid],\n",
    "    valid_names=[\"valid\"],\n",
    "    callbacks=[lgb.early_stopping(stopping_rounds=100), lgb.log_evaluation(period=50)]\n",
    ")\n",
    "\n",
    "# Prediction\n",
    "test_rank = test_rank.assign(\n",
    "    pred = gbm.predict(test_rank[FEATURES_PLUS].values, num_iteration=gbm.best_iteration)\n",
    ")"
   ]
  },
  {
   "cell_type": "code",
   "execution_count": 30,
   "metadata": {
    "execution": {
     "iopub.execute_input": "2025-09-05T20:50:17.732518Z",
     "iopub.status.busy": "2025-09-05T20:50:17.731875Z",
     "iopub.status.idle": "2025-09-05T20:50:17.758295Z",
     "shell.execute_reply": "2025-09-05T20:50:17.757018Z",
     "shell.execute_reply.started": "2025-09-05T20:50:17.732487Z"
    }
   },
   "outputs": [
    {
     "data": {
      "text/html": [
       "<div>\n",
       "<style scoped>\n",
       "    .dataframe tbody tr th:only-of-type {\n",
       "        vertical-align: middle;\n",
       "    }\n",
       "\n",
       "    .dataframe tbody tr th {\n",
       "        vertical-align: top;\n",
       "    }\n",
       "\n",
       "    .dataframe thead th {\n",
       "        text-align: right;\n",
       "    }\n",
       "</style>\n",
       "<table border=\"1\" class=\"dataframe\">\n",
       "  <thead>\n",
       "    <tr style=\"text-align: right;\">\n",
       "      <th></th>\n",
       "      <th>u</th>\n",
       "      <th>i</th>\n",
       "      <th>label</th>\n",
       "      <th>mf_score</th>\n",
       "      <th>item_count</th>\n",
       "      <th>item_mean</th>\n",
       "      <th>item_recency01</th>\n",
       "      <th>genre_sim</th>\n",
       "      <th>genre_(no genres listed)</th>\n",
       "      <th>genre_Action</th>\n",
       "      <th>...</th>\n",
       "      <th>genre_Horror</th>\n",
       "      <th>genre_IMAX</th>\n",
       "      <th>genre_Musical</th>\n",
       "      <th>genre_Mystery</th>\n",
       "      <th>genre_Romance</th>\n",
       "      <th>genre_Sci-Fi</th>\n",
       "      <th>genre_Thriller</th>\n",
       "      <th>genre_War</th>\n",
       "      <th>genre_Western</th>\n",
       "      <th>pred</th>\n",
       "    </tr>\n",
       "  </thead>\n",
       "  <tbody>\n",
       "    <tr>\n",
       "      <th>0</th>\n",
       "      <td>0</td>\n",
       "      <td>9585</td>\n",
       "      <td>0</td>\n",
       "      <td>3.833796</td>\n",
       "      <td>5554</td>\n",
       "      <td>4.023857</td>\n",
       "      <td>0.999982</td>\n",
       "      <td>1.259645</td>\n",
       "      <td>0</td>\n",
       "      <td>0</td>\n",
       "      <td>...</td>\n",
       "      <td>0</td>\n",
       "      <td>0</td>\n",
       "      <td>0</td>\n",
       "      <td>1</td>\n",
       "      <td>0</td>\n",
       "      <td>1</td>\n",
       "      <td>1</td>\n",
       "      <td>0</td>\n",
       "      <td>0</td>\n",
       "      <td>0.061900</td>\n",
       "    </tr>\n",
       "    <tr>\n",
       "      <th>1</th>\n",
       "      <td>0</td>\n",
       "      <td>11162</td>\n",
       "      <td>0</td>\n",
       "      <td>3.579875</td>\n",
       "      <td>5518</td>\n",
       "      <td>3.508789</td>\n",
       "      <td>0.999191</td>\n",
       "      <td>1.682288</td>\n",
       "      <td>0</td>\n",
       "      <td>1</td>\n",
       "      <td>...</td>\n",
       "      <td>0</td>\n",
       "      <td>0</td>\n",
       "      <td>0</td>\n",
       "      <td>0</td>\n",
       "      <td>0</td>\n",
       "      <td>1</td>\n",
       "      <td>1</td>\n",
       "      <td>1</td>\n",
       "      <td>0</td>\n",
       "      <td>0.073727</td>\n",
       "    </tr>\n",
       "    <tr>\n",
       "      <th>2</th>\n",
       "      <td>0</td>\n",
       "      <td>871</td>\n",
       "      <td>0</td>\n",
       "      <td>3.163672</td>\n",
       "      <td>8165</td>\n",
       "      <td>4.108512</td>\n",
       "      <td>0.999981</td>\n",
       "      <td>0.368777</td>\n",
       "      <td>0</td>\n",
       "      <td>0</td>\n",
       "      <td>...</td>\n",
       "      <td>0</td>\n",
       "      <td>0</td>\n",
       "      <td>0</td>\n",
       "      <td>0</td>\n",
       "      <td>0</td>\n",
       "      <td>0</td>\n",
       "      <td>0</td>\n",
       "      <td>0</td>\n",
       "      <td>0</td>\n",
       "      <td>0.056649</td>\n",
       "    </tr>\n",
       "    <tr>\n",
       "      <th>3</th>\n",
       "      <td>0</td>\n",
       "      <td>4742</td>\n",
       "      <td>1</td>\n",
       "      <td>3.079805</td>\n",
       "      <td>6630</td>\n",
       "      <td>3.423529</td>\n",
       "      <td>0.999364</td>\n",
       "      <td>1.769303</td>\n",
       "      <td>0</td>\n",
       "      <td>1</td>\n",
       "      <td>...</td>\n",
       "      <td>0</td>\n",
       "      <td>1</td>\n",
       "      <td>0</td>\n",
       "      <td>0</td>\n",
       "      <td>0</td>\n",
       "      <td>1</td>\n",
       "      <td>1</td>\n",
       "      <td>0</td>\n",
       "      <td>0</td>\n",
       "      <td>0.079193</td>\n",
       "    </tr>\n",
       "    <tr>\n",
       "      <th>4</th>\n",
       "      <td>0</td>\n",
       "      <td>3303</td>\n",
       "      <td>0</td>\n",
       "      <td>3.021405</td>\n",
       "      <td>3365</td>\n",
       "      <td>3.409956</td>\n",
       "      <td>0.999574</td>\n",
       "      <td>1.093902</td>\n",
       "      <td>0</td>\n",
       "      <td>0</td>\n",
       "      <td>...</td>\n",
       "      <td>0</td>\n",
       "      <td>0</td>\n",
       "      <td>0</td>\n",
       "      <td>0</td>\n",
       "      <td>0</td>\n",
       "      <td>1</td>\n",
       "      <td>0</td>\n",
       "      <td>0</td>\n",
       "      <td>0</td>\n",
       "      <td>0.032988</td>\n",
       "    </tr>\n",
       "  </tbody>\n",
       "</table>\n",
       "<p>5 rows × 29 columns</p>\n",
       "</div>"
      ],
      "text/plain": [
       "   u      i  label  mf_score  item_count  item_mean  item_recency01  \\\n",
       "0  0   9585      0  3.833796        5554   4.023857        0.999982   \n",
       "1  0  11162      0  3.579875        5518   3.508789        0.999191   \n",
       "2  0    871      0  3.163672        8165   4.108512        0.999981   \n",
       "3  0   4742      1  3.079805        6630   3.423529        0.999364   \n",
       "4  0   3303      0  3.021405        3365   3.409956        0.999574   \n",
       "\n",
       "   genre_sim  genre_(no genres listed)  genre_Action  ...  genre_Horror  \\\n",
       "0   1.259645                         0             0  ...             0   \n",
       "1   1.682288                         0             1  ...             0   \n",
       "2   0.368777                         0             0  ...             0   \n",
       "3   1.769303                         0             1  ...             0   \n",
       "4   1.093902                         0             0  ...             0   \n",
       "\n",
       "   genre_IMAX  genre_Musical  genre_Mystery  genre_Romance  genre_Sci-Fi  \\\n",
       "0           0              0              1              0             1   \n",
       "1           0              0              0              0             1   \n",
       "2           0              0              0              0             0   \n",
       "3           1              0              0              0             1   \n",
       "4           0              0              0              0             1   \n",
       "\n",
       "   genre_Thriller  genre_War  genre_Western      pred  \n",
       "0               1          0              0  0.061900  \n",
       "1               1          1              0  0.073727  \n",
       "2               0          0              0  0.056649  \n",
       "3               1          0              0  0.079193  \n",
       "4               0          0              0  0.032988  \n",
       "\n",
       "[5 rows x 29 columns]"
      ]
     },
     "execution_count": 30,
     "metadata": {},
     "output_type": "execute_result"
    }
   ],
   "source": [
    "test_rank.head()"
   ]
  },
  {
   "cell_type": "code",
   "execution_count": 31,
   "metadata": {
    "execution": {
     "iopub.execute_input": "2025-09-05T20:50:17.759654Z",
     "iopub.status.busy": "2025-09-05T20:50:17.759426Z",
     "iopub.status.idle": "2025-09-05T20:50:17.773358Z",
     "shell.execute_reply": "2025-09-05T20:50:17.771863Z",
     "shell.execute_reply.started": "2025-09-05T20:50:17.759638Z"
    }
   },
   "outputs": [],
   "source": [
    "os.makedirs(\"figure\", exist_ok=True)\n",
    "os.makedirs(\"data\", exist_ok=True)"
   ]
  },
  {
   "cell_type": "code",
   "execution_count": 32,
   "metadata": {
    "execution": {
     "iopub.execute_input": "2025-09-05T20:50:17.774973Z",
     "iopub.status.busy": "2025-09-05T20:50:17.774666Z",
     "iopub.status.idle": "2025-09-05T20:50:17.793636Z",
     "shell.execute_reply": "2025-09-05T20:50:17.792394Z",
     "shell.execute_reply.started": "2025-09-05T20:50:17.774953Z"
    }
   },
   "outputs": [],
   "source": [
    "# evaluation metrics hybrid ranking\n",
    "def precision_recall_ndcg_at_k(df, k=10, label=\"label\", score=\"pred\"):\n",
    "    precs, recs, ndcgs = [], [], []\n",
    "    \n",
    "    for u, g in df.groupby(\"u\", sort=False):\n",
    "        g = g.sort_values(score, ascending=False)    # sort the result data based on prediction score\n",
    "        topk = g.head(k)                 # pick top k scored (predicted) movies\n",
    "        hits = int(topk[label].sum())    # movies actually rated over 4.0 in the predicted topk\n",
    "        total_pos = int(g[label].sum())  # movies actually rated over 4.0 \n",
    "        precs.append(hits / k)              # Precision\n",
    "        if total_pos > 0:\n",
    "            recs.append(hits / total_pos)   # Recall\n",
    "\n",
    "        rel = topk[label].to_numpy()\n",
    "        if rel.size:\n",
    "            discounts = 1.0 / np.log2(np.arange(2, rel.size + 2))\n",
    "            dcg = float((rel * discounts).sum())\n",
    "            ideal = np.sort(rel)[::-1]\n",
    "            idcg = float((ideal * discounts).sum()) if ideal.sum() > 0 else 0.0\n",
    "            ndcgs.append(dcg / idcg if idcg > 0 else 0.0)    # NDCG\n",
    "\n",
    "    P = float(np.mean(precs)) if precs else 0.0\n",
    "    R = float(np.mean(recs)) if recs else 0.0\n",
    "    N = float(np.mean(ndcgs)) if ndcgs else 0.0\n",
    "\n",
    "    return P, R, N\n",
    "\n",
    "\n",
    "def metrics_over_K(df, ks, label=\"label\", score=\"pred\"):\n",
    "    rows = []\n",
    "    for k in ks:\n",
    "        P, R, N = precision_recall_ndcg_at_k(df, k=k, label=label, score=score)\n",
    "        rows.append({\"K\": k, \"Precision\": P, \"Recall\": R, \"NDCG\": N})\n",
    "    return pd.DataFrame(rows)"
   ]
  },
  {
   "cell_type": "code",
   "execution_count": 33,
   "metadata": {
    "execution": {
     "iopub.execute_input": "2025-09-05T20:50:17.795554Z",
     "iopub.status.busy": "2025-09-05T20:50:17.794938Z",
     "iopub.status.idle": "2025-09-05T20:50:26.703223Z",
     "shell.execute_reply": "2025-09-05T20:50:26.702161Z",
     "shell.execute_reply.started": "2025-09-05T20:50:17.795521Z"
    }
   },
   "outputs": [],
   "source": [
    "# Compare MF and Hybrid ranking\n",
    "KS = [5, 10, 20]\n",
    "df_mf = metrics_over_K(test_rank, KS, label=\"label\", score=\"mf_score\")\n",
    "df_hyb = metrics_over_K(test_rank, KS, label=\"label\", score=\"pred\")\n",
    "matrix_tbl = pd.concat([df_mf.assign(Model=\"MF\"), df_hyb.assign(Model=\"Hybrid\")], ignore_index=True)\n",
    "matrix_tbl.to_csv(\"/kaggle/working/data/metrics_baseline_vs_hybrid.csv\", index=False)"
   ]
  },
  {
   "cell_type": "code",
   "execution_count": 34,
   "metadata": {
    "execution": {
     "iopub.execute_input": "2025-09-05T20:50:26.704747Z",
     "iopub.status.busy": "2025-09-05T20:50:26.704360Z",
     "iopub.status.idle": "2025-09-05T20:50:27.725907Z",
     "shell.execute_reply": "2025-09-05T20:50:27.724842Z",
     "shell.execute_reply.started": "2025-09-05T20:50:26.704717Z"
    }
   },
   "outputs": [
    {
     "data": {
      "image/png": "[encoded data removed]",
      "text/plain": [
       "<Figure size 1500x400 with 3 Axes>"
      ]
     },
     "metadata": {},
     "output_type": "display_data"
    }
   ],
   "source": [
    "import matplotlib.pyplot as plt\n",
    "\n",
    "fig, axes = plt.subplots(1, 3, figsize=(15, 4), sharex=True)\n",
    "\n",
    "for ax, metric in zip(axes, [\"Precision\", \"Recall\", \"NDCG\"]):\n",
    "    for model, df in [(\"MF\", df_mf), (\"Hybrid\", df_hyb)]:\n",
    "        offset = 0.3 if model == \"Hybrid\" else -0.3 \n",
    "        ax.bar(df[\"K\"] + offset, df[metric], width=0.5, label=model if metric==\"Recall\" else \"\")\n",
    "    \n",
    "    ax.set_title(f\"{metric}@K\", fontsize=16)\n",
    "    ax.set_xlabel(\"K\", fontsize=16)\n",
    "    ax.set_ylabel(metric, fontsize=14)\n",
    "    ax.set_xticks(KS)\n",
    "    ax.grid(alpha=0.3)\n",
    "axes[1].legend(ncol=2, bbox_to_anchor=(0.89, -0.2), fontsize=14)\n",
    "\n",
    "# plt.tight_layout()\n",
    "out_path = os.path.join(\"figure/fig_metrics_mf_vs_hybrid.png\")\n",
    "plt.savefig(out_path, dpi=200, bbox_inches=\"tight\")\n",
    "plt.show()\n",
    "plt.close()"
   ]
  },
  {
   "cell_type": "code",
   "execution_count": 35,
   "metadata": {
    "execution": {
     "iopub.execute_input": "2025-09-05T20:50:27.727096Z",
     "iopub.status.busy": "2025-09-05T20:50:27.726852Z",
     "iopub.status.idle": "2025-09-05T20:50:28.353013Z",
     "shell.execute_reply": "2025-09-05T20:50:28.352077Z",
     "shell.execute_reply.started": "2025-09-05T20:50:27.727080Z"
    }
   },
   "outputs": [
    {
     "data": {
      "image/png": "[encoded data removed]",
      "text/plain": [
       "<Figure size 600x400 with 2 Axes>"
      ]
     },
     "metadata": {},
     "output_type": "display_data"
    }
   ],
   "source": [
    "fig, ax1 = plt.subplots(figsize=(6,4))\n",
    "\n",
    "ax1.plot(df_mf[\"K\"], df_mf[\"Precision\"], \"o-\", label=\"MF P@K\")\n",
    "ax1.plot(df_hyb[\"K\"], df_hyb[\"Precision\"], \"o-\", label=\"Hybrid P@K\")\n",
    "ax1.set_xlabel(\"K\")\n",
    "ax1.set_ylabel(\"Precision\")\n",
    "ax1.set_xticks(KS)\n",
    "\n",
    "ax2 = ax1.twinx()\n",
    "ax2.plot(df_mf[\"K\"], df_mf[\"Recall\"], \"s--\", label=\"MF R@K\")\n",
    "ax2.plot(df_hyb[\"K\"], df_hyb[\"Recall\"], \"s--\", label=\"Hybrid R@K\")\n",
    "ax2.set_ylabel(\"Recall\")\n",
    "\n",
    "fig.legend(bbox_to_anchor=(1.25, 0.65))\n",
    "plt.title(\"Precision and Recall (by K)\")\n",
    "# plt.tight_layout()\n",
    "out_path = os.path.join(\"figure/precision_recall_by_K.png\")\n",
    "plt.savefig(out_path, dpi=200, bbox_inches=\"tight\")\n",
    "plt.show()\n"
   ]
  },
  {
   "cell_type": "code",
   "execution_count": 36,
   "metadata": {
    "execution": {
     "iopub.execute_input": "2025-09-05T20:50:28.354527Z",
     "iopub.status.busy": "2025-09-05T20:50:28.354238Z",
     "iopub.status.idle": "2025-09-05T20:50:28.965105Z",
     "shell.execute_reply": "2025-09-05T20:50:28.963929Z",
     "shell.execute_reply.started": "2025-09-05T20:50:28.354508Z"
    }
   },
   "outputs": [
    {
     "name": "stdout",
     "output_type": "stream",
     "text": [
      "Feature importance plot skipped: Cannot save file into a non-existent directory: 'outputs'\n"
     ]
    },
    {
     "data": {
      "image/png": "[encoded data removed]",
      "text/plain": [
       "<Figure size 700x280 with 1 Axes>"
      ]
     },
     "metadata": {},
     "output_type": "display_data"
    }
   ],
   "source": [
    "try:\n",
    "    import numpy as np\n",
    "    fimp = pd.DataFrame({\n",
    "        \"feature\": gbm.feature_name(),\n",
    "        \"importance\": gbm.feature_importance(importance_type=\"gain\")\n",
    "    }).sort_values(\"importance\", ascending=False)\n",
    "\n",
    "    topN = 15                                                             \n",
    "    plt.figure(figsize=(7,6))\n",
    "    plt.barh(fimp[\"feature\"].head(topN)[::-1],\n",
    "             fimp[\"importance\"].head(topN)[::-1])\n",
    "    plt.title(\"Feature Importance (gain) — Top 15\")\n",
    "    plt.xlabel(\"Importance (gain)\")\n",
    "    plt.ylabel(\"Feature\")\n",
    "    plt.tight_layout()\n",
    "    plt.savefig(os.path.join(\"figure/fig_feature_importance_top15.png\"), dpi=200)\n",
    "    plt.close()\n",
    "    fimp.to_csv(\"outputs/feature_importances.csv\", index=False)\n",
    "except Exception as e:\n",
    "    print(\"Feature importance plot skipped:\", e)\n",
    "\n",
    "sample_u = int(test_rank[\"u\"].sample(1, random_state=42).iloc[0])\n",
    "sample_tbl = (test_rank[test_rank[\"u\"]==sample_u]\n",
    "              .sort_values(\"pred\", ascending=False)\n",
    "              .head(10)[[\"u\",\"i\",\"pred\",\"label\",\"mf_score\"]])\n",
    "sample_tbl.to_csv(\"data/sample_top10_user.csv\", index=False)\n",
    "\n",
    "plt.figure(figsize=(7,2.8))\n",
    "plt.axis(\"off\")\n",
    "tbl = plt.table(cellText=np.round(sample_tbl.values, 4),\n",
    "                colLabels=sample_tbl.columns.tolist(),\n",
    "                loc=\"center\")\n",
    "tbl.auto_set_font_size(False)\n",
    "tbl.set_fontsize(8)\n",
    "tbl.scale(1, 1.2)\n",
    "plt.tight_layout()\n",
    "plt.show()\n",
    "# plt.savefig(os.path.join(\"figure/fig_sample_top10_user.png\"), dpi=300, bbox_inches=\"tight\")\n",
    "plt.close()\n",
    "\n",
    "# print(\"Saved figures:\", os.listdir(FIG_DIR))"
   ]
  },
  {
   "cell_type": "code",
   "execution_count": 37,
   "metadata": {
    "execution": {
     "iopub.execute_input": "2025-09-05T20:50:28.966161Z",
     "iopub.status.busy": "2025-09-05T20:50:28.965939Z",
     "iopub.status.idle": "2025-09-05T20:50:30.694310Z",
     "shell.execute_reply": "2025-09-05T20:50:30.692694Z",
     "shell.execute_reply.started": "2025-09-05T20:50:28.966143Z"
    }
   },
   "outputs": [],
   "source": [
    "import os, shutil, glob, pandas as pd, json\n",
    "\n",
    "ROOT_OUT = \"/kaggle/working/outputs\"\n",
    "PARQ_DIR = f\"{ROOT_OUT}/parquet\"\n",
    "PARTS_DIR= f\"{PARQ_DIR}/candidate_parts\" \n",
    "FIG_DIR  = f\"{ROOT_OUT}/figs\"\n",
    "TABLE_DIR= f\"{ROOT_OUT}/tables\"\n",
    "MODEL_DIR= f\"{ROOT_OUT}/models\"\n",
    "for d in [PARQ_DIR, PARTS_DIR, FIG_DIR, TABLE_DIR, MODEL_DIR]:\n",
    "    os.makedirs(d, exist_ok=True)\n",
    "\n",
    "src_parts = sorted(glob.glob(\"/kaggle/working/batch/candidates_part_*.parquet\"))\n",
    "for sp in src_parts:\n",
    "    shutil.copy2(sp, PARTS_DIR)\n",
    "\n",
    "def safe_to_parquet(df, path):\n",
    "    if isinstance(df, pd.DataFrame) and len(df) > 0:\n",
    "        df.to_parquet(path, index=False)\n",
    "\n",
    "try: safe_to_parquet(item_features, f\"{PARQ_DIR}/item_features.parquet\")\n",
    "except: pass\n",
    "try: safe_to_parquet(user_genre,    f\"{PARQ_DIR}/user_genre.parquet\")\n",
    "except: pass\n",
    "try: safe_to_parquet(valid_label,  f\"{PARQ_DIR}/valid_label.parquet\")\n",
    "except: pass\n",
    "try: safe_to_parquet(test_label,   f\"{PARQ_DIR}/test_label.parquet\")\n",
    "except: pass\n",
    "try: safe_to_parquet(train, f\"{PARQ_DIR}/train.parquet\")\n",
    "except: pass\n",
    "\n",
    "# shutil.make_archive(f\"{FIG_DIR}/all_figs\", 'zip', \"/kaggle/working/figure\")\n",
    "\n",
    "manifest = {\n",
    "  \"parquet\": {\n",
    "    \"candidate_parts_glob\": \"parquet/candidate_parts/candidates_part_*.parquet\",\n",
    "    \"item_features\":        \"parquet/item_features.parquet\",\n",
    "    \"user_genre\":           \"parquet/user_genre.parquet\",\n",
    "    \"valid_label\":          \"parquet/valid_label.parquet\",\n",
    "    \"test_label\":           \"parquet/test_label.parquet\",\n",
    "    \"train\":                \"parquet/train.parquet\"\n",
    "  }\n",
    "}\n",
    "with open(f\"{ROOT_OUT}/manifest.json\", \"w\") as f:\n",
    "    json.dump(manifest, f, indent=2)\n"
   ]
  },
  {
   "cell_type": "code",
   "execution_count": 38,
   "metadata": {
    "execution": {
     "iopub.execute_input": "2025-09-05T20:50:30.695887Z",
     "iopub.status.busy": "2025-09-05T20:50:30.695547Z",
     "iopub.status.idle": "2025-09-05T20:50:30.702430Z",
     "shell.execute_reply": "2025-09-05T20:50:30.701319Z",
     "shell.execute_reply.started": "2025-09-05T20:50:30.695867Z"
    }
   },
   "outputs": [],
   "source": [
    "# import os, shutil, glob, pandas as pd, json\n",
    "\n",
    "# ROOT_OUT = \"/kaggle/working/outputs\"\n",
    "# PARQ_DIR = f\"{ROOT_OUT}/parquet\"\n",
    "# FIG_DIR  = f\"{ROOT_OUT}/figs\"\n",
    "# TABLE_DIR= f\"{ROOT_OUT}/tables\"\n",
    "# MODEL_DIR= f\"{ROOT_OUT}/models\"\n",
    "# os.makedirs(PARQ_DIR, exist_ok=True)\n",
    "# os.makedirs(FIG_DIR,  exist_ok=True)\n",
    "# os.makedirs(TABLE_DIR,exist_ok=True)\n",
    "# os.makedirs(MODEL_DIR,exist_ok=True)\n",
    "\n",
    "# part_files = sorted(glob.glob(\"/kaggle/working/batch/candidates_part_*.parquet\"))\n",
    "\n",
    "# def safe_to_parquet(df, path):\n",
    "#     if isinstance(df, pd.DataFrame) and len(df)>0:\n",
    "#         df.to_parquet(path, index=False)\n",
    "\n",
    "# try: safe_to_parquet(item_features, f\"{PARQ_DIR}/item_features.parquet\")\n",
    "# except: pass\n",
    "# try: safe_to_parquet(user_genre,    f\"{PARQ_DIR}/user_genre.parquet\")\n",
    "# except: pass\n",
    "# try: safe_to_parquet(valid_label,  f\"{PARQ_DIR}/valid_label.parquet\")\n",
    "# except: pass\n",
    "# try: safe_to_parquet(test_label,   f\"{PARQ_DIR}/test_label.parquet\")\n",
    "# except: pass\n",
    "\n",
    "# shutil.make_archive(f\"{FIG_DIR}/all_figs\", 'zip', \"/kaggle/working/figure\")\n",
    "\n",
    "# manifest = {\n",
    "#   \"parquet\": {\n",
    "#     \"candidate_parts\": part_files,\n",
    "#     \"item_features\": f\"{PARQ_DIR}/item_features.parquet\",\n",
    "#     \"user_genre\":    f\"{PARQ_DIR}/user_genre.parquet\",\n",
    "#     \"valid_labels\":  f\"{PARQ_DIR}/valid_labels.parquet\",\n",
    "#     \"test_labels\":   f\"{PARQ_DIR}/test_labels.parquet\",\n",
    "#   },\n",
    "#   \"figs_zip\": f\"{FIG_DIR}/all_figs.zip\"\n",
    "# }\n",
    "# with open(f\"{ROOT_OUT}/manifest.json\", \"w\") as f:\n",
    "#     json.dump(manifest, f, indent=2)\n"
   ]
  },
  {
   "cell_type": "code",
   "execution_count": 39,
   "metadata": {
    "execution": {
     "iopub.execute_input": "2025-09-05T20:50:30.704360Z",
     "iopub.status.busy": "2025-09-05T20:50:30.703504Z",
     "iopub.status.idle": "2025-09-05T20:50:30.907892Z",
     "shell.execute_reply": "2025-09-05T20:50:30.906166Z",
     "shell.execute_reply.started": "2025-09-05T20:50:30.704334Z"
    }
   },
   "outputs": [
    {
     "name": "stdout",
     "output_type": "stream",
     "text": [
      "/kaggle/working/outputs:\n",
      "figs  manifest.json  models  parquet  tables\n",
      "\n",
      "/kaggle/working/outputs/figs:\n",
      "\n",
      "/kaggle/working/outputs/models:\n",
      "\n",
      "/kaggle/working/outputs/parquet:\n",
      "candidate_parts        test_label.parquet  user_genre.parquet\n",
      "item_features.parquet  train.parquet\t   valid_label.parquet\n",
      "\n",
      "/kaggle/working/outputs/parquet/candidate_parts:\n",
      "candidates_part_000.parquet  candidates_part_038.parquet\n",
      "candidates_part_001.parquet  candidates_part_039.parquet\n",
      "candidates_part_002.parquet  candidates_part_040.parquet\n",
      "candidates_part_003.parquet  candidates_part_041.parquet\n",
      "candidates_part_004.parquet  candidates_part_042.parquet\n",
      "candidates_part_005.parquet  candidates_part_043.parquet\n",
      "candidates_part_006.parquet  candidates_part_044.parquet\n",
      "candidates_part_007.parquet  candidates_part_045.parquet\n",
      "candidates_part_008.parquet  candidates_part_046.parquet\n",
      "candidates_part_009.parquet  candidates_part_047.parquet\n",
      "candidates_part_010.parquet  candidates_part_048.parquet\n",
      "candidates_part_011.parquet  candidates_part_049.parquet\n",
      "candidates_part_012.parquet  candidates_part_050.parquet\n",
      "candidates_part_013.parquet  candidates_part_051.parquet\n",
      "candidates_part_014.parquet  candidates_part_052.parquet\n",
      "candidates_part_015.parquet  candidates_part_053.parquet\n",
      "candidates_part_016.parquet  candidates_part_054.parquet\n",
      "candidates_part_017.parquet  candidates_part_055.parquet\n",
      "candidates_part_018.parquet  candidates_part_056.parquet\n",
      "candidates_part_019.parquet  candidates_part_057.parquet\n",
      "candidates_part_020.parquet  candidates_part_058.parquet\n",
      "candidates_part_021.parquet  candidates_part_059.parquet\n",
      "candidates_part_022.parquet  candidates_part_060.parquet\n",
      "candidates_part_023.parquet  candidates_part_061.parquet\n",
      "candidates_part_024.parquet  candidates_part_062.parquet\n",
      "candidates_part_025.parquet  candidates_part_063.parquet\n",
      "candidates_part_026.parquet  candidates_part_064.parquet\n",
      "candidates_part_027.parquet  candidates_part_065.parquet\n",
      "candidates_part_028.parquet  candidates_part_066.parquet\n",
      "candidates_part_029.parquet  candidates_part_067.parquet\n",
      "candidates_part_030.parquet  candidates_part_068.parquet\n",
      "candidates_part_031.parquet  candidates_part_069.parquet\n",
      "candidates_part_032.parquet  candidates_part_070.parquet\n",
      "candidates_part_033.parquet  candidates_part_071.parquet\n",
      "candidates_part_034.parquet  candidates_part_072.parquet\n",
      "candidates_part_035.parquet  candidates_part_073.parquet\n",
      "candidates_part_036.parquet  candidates_part_074.parquet\n",
      "candidates_part_037.parquet\n",
      "\n",
      "/kaggle/working/outputs/tables:\n"
     ]
    }
   ],
   "source": [
    "!ls -R /kaggle/working/outputs"
   ]
  },
  {
   "cell_type": "code",
   "execution_count": 40,
   "metadata": {
    "execution": {
     "iopub.execute_input": "2025-09-05T20:50:30.909178Z",
     "iopub.status.busy": "2025-09-05T20:50:30.908925Z",
     "iopub.status.idle": "2025-09-05T20:50:31.073841Z",
     "shell.execute_reply": "2025-09-05T20:50:31.072478Z",
     "shell.execute_reply.started": "2025-09-05T20:50:30.909155Z"
    }
   },
   "outputs": [
    {
     "name": "stdout",
     "output_type": "stream",
     "text": [
      "{\n",
      "  \"parquet\": {\n",
      "    \"candidate_parts_glob\": \"parquet/candidate_parts/candidates_part_*.parquet\",\n",
      "    \"item_features\": \"parquet/item_features.parquet\",\n",
      "    \"user_genre\": \"parquet/user_genre.parquet\",\n",
      "    \"valid_label\": \"parquet/valid_label.parquet\",\n",
      "    \"test_label\": \"parquet/test_label.parquet\",\n",
      "    \"train\": \"parquet/train.parquet\"\n",
      "  }\n",
      "}"
     ]
    }
   ],
   "source": [
    "!cat /kaggle/working/outputs/manifest.json | head"
   ]
  },
  {
   "cell_type": "code",
   "execution_count": null,
   "metadata": {},
   "outputs": [],
   "source": []
  }
 ],
 "metadata": {
  "kaggle": {
   "accelerator": "none",
   "dataSources": [
    {
     "datasetId": 2344310,
     "sourceId": 3949614,
     "sourceType": "datasetVersion"
    }
   ],
   "dockerImageVersionId": 31089,
   "isGpuEnabled": false,
   "isInternetEnabled": true,
   "language": "python",
   "sourceType": "notebook"
  },
  "kernelspec": {
   "display_name": "Python 3 (ipykernel)",
   "language": "python",
   "name": "python3"
  },
  "language_info": {
   "codemirror_mode": {
    "name": "ipython",
    "version": 3
   },
   "file_extension": ".py",
   "mimetype": "text/x-python",
   "name": "python",
   "nbconvert_exporter": "python",
   "pygments_lexer": "ipython3",
   "version": "3.10.13"
  }
 },
 "nbformat": 4,
 "nbformat_minor": 4
}
